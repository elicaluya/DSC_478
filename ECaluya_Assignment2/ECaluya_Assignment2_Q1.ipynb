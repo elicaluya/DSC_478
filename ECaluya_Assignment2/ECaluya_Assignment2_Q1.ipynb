{
 "cells": [
  {
   "cell_type": "code",
   "execution_count": 120,
   "metadata": {},
   "outputs": [],
   "source": [
    "import numpy as np\n",
    "import pandas as pd\n",
    "import matplotlib.pyplot as plt\n",
    "import operator\n",
    "from numpy import dot\n",
    "from numpy.linalg import norm\n",
    "%matplotlib inline"
   ]
  },
  {
   "cell_type": "code",
   "execution_count": 155,
   "metadata": {},
   "outputs": [],
   "source": [
    "# Load in data from txt files\n",
    "TD = np.genfromtxt('newsgroups/trainMatrixModified.txt',delimiter='\\t',dtype=float)\n",
    "testTD = np.genfromtxt('newsgroups/testMatrixModified.txt',delimiter='\\t',dtype=float)\n",
    "labels = np.genfromtxt('newsgroups/trainClasses.txt',delimiter='\\t',usecols=(1),dtype=float)\n",
    "testLabels = np.genfromtxt('newsgroups/testClasses.txt',delimiter='\\t',usecols=(1),dtype=float)\n",
    "terms = np.genfromtxt('newsgroups/modifiedTerms.txt',delimiter='\\t')\n",
    "\n"
   ]
  },
  {
   "cell_type": "code",
   "execution_count": 156,
   "metadata": {},
   "outputs": [],
   "source": [
    "DT = TD.T\n",
    "testDT = testTD.T\n",
    "\n",
    "numTestVecs = len(testDT)\n",
    "\n",
    "DTM_train = np.array(DT)\n",
    "DTM_test = np.array(testDT)\n",
    "train_lab_array = np.array(labels).flatten()\n",
    "test_lab_array = np.array(testLabels).flatten()"
   ]
  },
  {
   "cell_type": "markdown",
   "metadata": {},
   "source": [
    "Question 1:\n",
    "\n",
    "A) Create your own KNN classifier function. Your classifier should allow as input the training data matrix, the training labels, the instance to be classified, the value of K, and should return the predicted class for the instance and the top K neighbors. Your classifier should work with Euclidean distance as well as Cosine Similarity. You may create two separate classifiers, or add this capability as a parameter for the classifier function."
   ]
  },
  {
   "cell_type": "code",
   "execution_count": 157,
   "metadata": {},
   "outputs": [],
   "source": [
    "def knn_search(x, D, K, measure):\n",
    "    \"\"\" find K nearest neighbours of data point x among D \"\"\"\n",
    "    if measure == 0:\n",
    "        # euclidean distances from the other points\n",
    "        dists = np.sqrt(((D - x)**2).sum(axis=1))\n",
    "    elif measure == 1:\n",
    "        D_norm = np.array([np.linalg.norm(D[i]) for i in range(len(D))])\n",
    "        x_norm = np.linalg.norm(x)\n",
    "        sims = np.dot(D,x)/(D_norm * x_norm)\n",
    "        dists = 1 - sims\n",
    "    idx = np.argsort(dists) # sorting\n",
    "    # return the indexes of K nearest neighbors\n",
    "    return idx[:K], sorted(dists)[:K]"
   ]
  },
  {
   "cell_type": "code",
   "execution_count": 158,
   "metadata": {},
   "outputs": [],
   "source": [
    "def knn_classifier(x, D, train_labels, K, measure):\n",
    "    classCount = {}\n",
    "    idx, dists = knn_search(x, D, K, measure)\n",
    "    for i in idx:\n",
    "        voteIlabel = labels[i]\n",
    "        classCount[voteIlabel] = classCount.get(voteIlabel,0)+1\n",
    "        sortedClassCount = sorted(classCount.items(),key=operator.itemgetter(1),reverse=True)\n",
    "    return sortedClassCount[0][0]"
   ]
  },
  {
   "cell_type": "markdown",
   "metadata": {},
   "source": [
    "B) Create a function to compute the classification accuracy over the test data set (ratio of correct predictions to the number of test instances). This function will call the classifier function in part a on all the test instances and in each case compares the actual test class label to the predicted class label."
   ]
  },
  {
   "cell_type": "code",
   "execution_count": 159,
   "metadata": {},
   "outputs": [],
   "source": [
    "def classAccuracy(D, K, measure, test_labels):\n",
    "    errorCount = 0.0\n",
    "    for i in range(numTestVecs):\n",
    "        classifierResult = knn_classifier(testDT[i], D, labels, K, measure)\n",
    "        if (classifierResult != test_labels[i]): errorCount += 1.0\n",
    "    return 1 - (errorCount/float(numTestVecs))"
   ]
  },
  {
   "cell_type": "markdown",
   "metadata": {},
   "source": [
    "C) Run your accuracy function on a range of values for K in order to compare accuracy values for different numbers of neighbors. Do this both using Euclidean Distance as well as Cosine similarity measure. [For example, you can try evaluating your classifiers on a range of values of K from 1 through 20 and present the results as a table or a graph]."
   ]
  },
  {
   "cell_type": "code",
   "execution_count": 160,
   "metadata": {},
   "outputs": [],
   "source": [
    "euclideanList = []\n",
    "cosineList = []\n",
    "results = {}\n",
    "\n",
    "for i in range(20):\n",
    "    euc = classAccuracy(DT, i+1, 0, testLabels)\n",
    "    cos = classAccuracy(DT, i+1, 1, testLabels)\n",
    "    euclideanList.append(euc)\n",
    "    cosineList.append(cos)"
   ]
  },
  {
   "cell_type": "code",
   "execution_count": 161,
   "metadata": {},
   "outputs": [
    {
     "data": {
      "text/html": [
       "<div>\n",
       "<style scoped>\n",
       "    .dataframe tbody tr th:only-of-type {\n",
       "        vertical-align: middle;\n",
       "    }\n",
       "\n",
       "    .dataframe tbody tr th {\n",
       "        vertical-align: top;\n",
       "    }\n",
       "\n",
       "    .dataframe thead th {\n",
       "        text-align: right;\n",
       "    }\n",
       "</style>\n",
       "<table border=\"1\" class=\"dataframe\">\n",
       "  <thead>\n",
       "    <tr style=\"text-align: right;\">\n",
       "      <th></th>\n",
       "      <th>Euclidean</th>\n",
       "      <th>Cosine</th>\n",
       "    </tr>\n",
       "  </thead>\n",
       "  <tbody>\n",
       "    <tr>\n",
       "      <th>0</th>\n",
       "      <td>0.78</td>\n",
       "      <td>0.98</td>\n",
       "    </tr>\n",
       "    <tr>\n",
       "      <th>1</th>\n",
       "      <td>0.78</td>\n",
       "      <td>0.98</td>\n",
       "    </tr>\n",
       "    <tr>\n",
       "      <th>2</th>\n",
       "      <td>0.81</td>\n",
       "      <td>0.97</td>\n",
       "    </tr>\n",
       "    <tr>\n",
       "      <th>3</th>\n",
       "      <td>0.81</td>\n",
       "      <td>0.98</td>\n",
       "    </tr>\n",
       "    <tr>\n",
       "      <th>4</th>\n",
       "      <td>0.81</td>\n",
       "      <td>0.97</td>\n",
       "    </tr>\n",
       "    <tr>\n",
       "      <th>5</th>\n",
       "      <td>0.83</td>\n",
       "      <td>0.98</td>\n",
       "    </tr>\n",
       "    <tr>\n",
       "      <th>6</th>\n",
       "      <td>0.77</td>\n",
       "      <td>0.98</td>\n",
       "    </tr>\n",
       "    <tr>\n",
       "      <th>7</th>\n",
       "      <td>0.80</td>\n",
       "      <td>0.98</td>\n",
       "    </tr>\n",
       "    <tr>\n",
       "      <th>8</th>\n",
       "      <td>0.75</td>\n",
       "      <td>0.97</td>\n",
       "    </tr>\n",
       "    <tr>\n",
       "      <th>9</th>\n",
       "      <td>0.85</td>\n",
       "      <td>0.98</td>\n",
       "    </tr>\n",
       "    <tr>\n",
       "      <th>10</th>\n",
       "      <td>0.80</td>\n",
       "      <td>0.98</td>\n",
       "    </tr>\n",
       "    <tr>\n",
       "      <th>11</th>\n",
       "      <td>0.84</td>\n",
       "      <td>0.97</td>\n",
       "    </tr>\n",
       "    <tr>\n",
       "      <th>12</th>\n",
       "      <td>0.78</td>\n",
       "      <td>0.98</td>\n",
       "    </tr>\n",
       "    <tr>\n",
       "      <th>13</th>\n",
       "      <td>0.81</td>\n",
       "      <td>0.98</td>\n",
       "    </tr>\n",
       "    <tr>\n",
       "      <th>14</th>\n",
       "      <td>0.79</td>\n",
       "      <td>0.98</td>\n",
       "    </tr>\n",
       "    <tr>\n",
       "      <th>15</th>\n",
       "      <td>0.80</td>\n",
       "      <td>0.98</td>\n",
       "    </tr>\n",
       "    <tr>\n",
       "      <th>16</th>\n",
       "      <td>0.76</td>\n",
       "      <td>0.97</td>\n",
       "    </tr>\n",
       "    <tr>\n",
       "      <th>17</th>\n",
       "      <td>0.79</td>\n",
       "      <td>0.97</td>\n",
       "    </tr>\n",
       "    <tr>\n",
       "      <th>18</th>\n",
       "      <td>0.74</td>\n",
       "      <td>0.97</td>\n",
       "    </tr>\n",
       "    <tr>\n",
       "      <th>19</th>\n",
       "      <td>0.77</td>\n",
       "      <td>0.97</td>\n",
       "    </tr>\n",
       "  </tbody>\n",
       "</table>\n",
       "</div>"
      ],
      "text/plain": [
       "    Euclidean  Cosine\n",
       "0        0.78    0.98\n",
       "1        0.78    0.98\n",
       "2        0.81    0.97\n",
       "3        0.81    0.98\n",
       "4        0.81    0.97\n",
       "5        0.83    0.98\n",
       "6        0.77    0.98\n",
       "7        0.80    0.98\n",
       "8        0.75    0.97\n",
       "9        0.85    0.98\n",
       "10       0.80    0.98\n",
       "11       0.84    0.97\n",
       "12       0.78    0.98\n",
       "13       0.81    0.98\n",
       "14       0.79    0.98\n",
       "15       0.80    0.98\n",
       "16       0.76    0.97\n",
       "17       0.79    0.97\n",
       "18       0.74    0.97\n",
       "19       0.77    0.97"
      ]
     },
     "execution_count": 161,
     "metadata": {},
     "output_type": "execute_result"
    }
   ],
   "source": [
    "results[\"Euclidean\"] = euclideanList\n",
    "results[\"Cosine\"] = cosineList\n",
    "\n",
    "# Comparison between euclidean and cosine similarity shown as a table\n",
    "accuracyTable = pd.DataFrame(results, columns=['Euclidean', 'Cosine'])\n",
    "accuracyTable"
   ]
  },
  {
   "cell_type": "code",
   "execution_count": 75,
   "metadata": {},
   "outputs": [
    {
     "data": {
      "text/plain": [
       "<AxesSubplot:title={'center':'Comparison between Euclidean and Cosine Similarity'}>"
      ]
     },
     "execution_count": 75,
     "metadata": {},
     "output_type": "execute_result"
    },
    {
     "data": {
      "image/png": "[encoded data removed]",
      "text/plain": [
       "<Figure size 432x288 with 1 Axes>"
      ]
     },
     "metadata": {
      "needs_background": "light"
     },
     "output_type": "display_data"
    }
   ],
   "source": [
    "# Comparison between euclidean and cosine similarity shown as bar graph\n",
    "accuracyTable.plot(kind='bar', title='Comparison between Euclidean and Cosine Similarity')"
   ]
  },
  {
   "cell_type": "markdown",
   "metadata": {},
   "source": [
    "D) Using Python, modify the training and test data sets so that term weights are converted to TFxIDF weights (instead of raw term frequencies). [See class notes on text categorization]. Then, rerun your evaluation on the range of K values (as above) and compare the results to the results without using TFxIDF weights."
   ]
  },
  {
   "cell_type": "code",
   "execution_count": 110,
   "metadata": {},
   "outputs": [],
   "source": [
    "# Get doc counts for each term\n",
    "DF = pd.DataFrame([(TD!=0).sum(1)]).T"
   ]
  },
  {
   "cell_type": "code",
   "execution_count": 111,
   "metadata": {},
   "outputs": [
    {
     "name": "stdout",
     "output_type": "stream",
     "text": [
      "[[800. 800. 800. ... 800. 800. 800.]\n",
      " [800. 800. 800. ... 800. 800. 800.]\n",
      " [800. 800. 800. ... 800. 800. 800.]\n",
      " ...\n",
      " [800. 800. 800. ... 800. 800. 800.]\n",
      " [800. 800. 800. ... 800. 800. 800.]\n",
      " [800. 800. 800. ... 800. 800. 800.]]\n"
     ]
    }
   ],
   "source": [
    "# Create a matrix with all entries = NDocs\n",
    "NDocs = TD.shape[1]\n",
    "\n",
    "NMatrix=np.ones(np.shape(TD), dtype=float)*NDocs\n",
    "\n",
    "np.set_printoptions(precision=2,suppress=True,linewidth=120)\n",
    "print(NMatrix)"
   ]
  },
  {
   "cell_type": "code",
   "execution_count": 109,
   "metadata": {},
   "outputs": [
    {
     "name": "stdout",
     "output_type": "stream",
     "text": [
      "[[4.   4.   4.   ... 4.   4.   4.  ]\n",
      " [6.84 6.84 6.84 ... 6.84 6.84 6.84]\n",
      " [6.32 6.32 6.32 ... 6.32 6.32 6.32]\n",
      " ...\n",
      " [8.64 8.64 8.64 ... 8.64 8.64 8.64]\n",
      " [8.64 8.64 8.64 ... 8.64 8.64 8.64]\n",
      " [8.64 8.64 8.64 ... 8.64 8.64 8.64]]\n"
     ]
    }
   ],
   "source": [
    "# Convert each entry into IDF term\n",
    "IDF = np.log2(np.divide(NMatrix, np.array(DF)))\n",
    "\n",
    "print(IDF)"
   ]
  },
  {
   "cell_type": "code",
   "execution_count": 108,
   "metadata": {},
   "outputs": [
    {
     "data": {
      "text/plain": [
       "array([[ 8.  ,  0.  ,  0.  , ...,  0.  ,  0.  ,  0.  ],\n",
       "       [13.67,  0.  ,  0.  , ...,  0.  ,  0.  ,  0.  ],\n",
       "       [12.64,  0.  ,  0.  , ...,  0.  ,  0.  ,  0.  ],\n",
       "       ...,\n",
       "       [ 0.  ,  0.  ,  0.  , ...,  0.  ,  0.  ,  0.  ],\n",
       "       [ 0.  ,  0.  ,  0.  , ...,  0.  ,  0.  ,  0.  ],\n",
       "       [ 0.  ,  0.  ,  0.  , ...,  0.  ,  0.  ,  0.  ]])"
      ]
     },
     "execution_count": 108,
     "metadata": {},
     "output_type": "execute_result"
    }
   ],
   "source": [
    "# Compute TFxIDF values for each term\n",
    "TD_tfidf = TD * IDF\n",
    "pd.set_option(\"display.precision\", 2)\n",
    "\n",
    "TD_tfidf"
   ]
  },
  {
   "cell_type": "code",
   "execution_count": 112,
   "metadata": {},
   "outputs": [],
   "source": [
    "euclideanListTFxIDF = []\n",
    "cosineListTFxIDF = []\n",
    "resultsTFxIDF = {}\n",
    "\n",
    "for i in range(20):\n",
    "    euc = classAccuracy(TD_tfidf.T, i+1, 0, testLabels)\n",
    "    cos = classAccuracy(TD_tfidf.T, i+1, 1, testLabels)\n",
    "    euclideanListTFxIDF.append(euc)\n",
    "    cosineListTFxIDF.append(cos)"
   ]
  },
  {
   "cell_type": "code",
   "execution_count": 113,
   "metadata": {},
   "outputs": [
    {
     "data": {
      "text/html": [
       "<div>\n",
       "<style scoped>\n",
       "    .dataframe tbody tr th:only-of-type {\n",
       "        vertical-align: middle;\n",
       "    }\n",
       "\n",
       "    .dataframe tbody tr th {\n",
       "        vertical-align: top;\n",
       "    }\n",
       "\n",
       "    .dataframe thead th {\n",
       "        text-align: right;\n",
       "    }\n",
       "</style>\n",
       "<table border=\"1\" class=\"dataframe\">\n",
       "  <thead>\n",
       "    <tr style=\"text-align: right;\">\n",
       "      <th></th>\n",
       "      <th>Euclidean</th>\n",
       "      <th>Cosine</th>\n",
       "    </tr>\n",
       "  </thead>\n",
       "  <tbody>\n",
       "    <tr>\n",
       "      <th>0</th>\n",
       "      <td>0.52</td>\n",
       "      <td>0.97</td>\n",
       "    </tr>\n",
       "    <tr>\n",
       "      <th>1</th>\n",
       "      <td>0.52</td>\n",
       "      <td>0.97</td>\n",
       "    </tr>\n",
       "    <tr>\n",
       "      <th>2</th>\n",
       "      <td>0.52</td>\n",
       "      <td>0.98</td>\n",
       "    </tr>\n",
       "    <tr>\n",
       "      <th>3</th>\n",
       "      <td>0.52</td>\n",
       "      <td>0.98</td>\n",
       "    </tr>\n",
       "    <tr>\n",
       "      <th>4</th>\n",
       "      <td>0.53</td>\n",
       "      <td>0.97</td>\n",
       "    </tr>\n",
       "    <tr>\n",
       "      <th>5</th>\n",
       "      <td>0.55</td>\n",
       "      <td>0.98</td>\n",
       "    </tr>\n",
       "    <tr>\n",
       "      <th>6</th>\n",
       "      <td>0.50</td>\n",
       "      <td>0.98</td>\n",
       "    </tr>\n",
       "    <tr>\n",
       "      <th>7</th>\n",
       "      <td>0.51</td>\n",
       "      <td>0.99</td>\n",
       "    </tr>\n",
       "    <tr>\n",
       "      <th>8</th>\n",
       "      <td>0.50</td>\n",
       "      <td>0.99</td>\n",
       "    </tr>\n",
       "    <tr>\n",
       "      <th>9</th>\n",
       "      <td>0.51</td>\n",
       "      <td>0.99</td>\n",
       "    </tr>\n",
       "    <tr>\n",
       "      <th>10</th>\n",
       "      <td>0.50</td>\n",
       "      <td>0.99</td>\n",
       "    </tr>\n",
       "    <tr>\n",
       "      <th>11</th>\n",
       "      <td>0.50</td>\n",
       "      <td>0.99</td>\n",
       "    </tr>\n",
       "    <tr>\n",
       "      <th>12</th>\n",
       "      <td>0.50</td>\n",
       "      <td>0.99</td>\n",
       "    </tr>\n",
       "    <tr>\n",
       "      <th>13</th>\n",
       "      <td>0.50</td>\n",
       "      <td>0.99</td>\n",
       "    </tr>\n",
       "    <tr>\n",
       "      <th>14</th>\n",
       "      <td>0.50</td>\n",
       "      <td>0.99</td>\n",
       "    </tr>\n",
       "    <tr>\n",
       "      <th>15</th>\n",
       "      <td>0.50</td>\n",
       "      <td>0.99</td>\n",
       "    </tr>\n",
       "    <tr>\n",
       "      <th>16</th>\n",
       "      <td>0.50</td>\n",
       "      <td>0.98</td>\n",
       "    </tr>\n",
       "    <tr>\n",
       "      <th>17</th>\n",
       "      <td>0.50</td>\n",
       "      <td>0.98</td>\n",
       "    </tr>\n",
       "    <tr>\n",
       "      <th>18</th>\n",
       "      <td>0.50</td>\n",
       "      <td>0.99</td>\n",
       "    </tr>\n",
       "    <tr>\n",
       "      <th>19</th>\n",
       "      <td>0.51</td>\n",
       "      <td>0.99</td>\n",
       "    </tr>\n",
       "  </tbody>\n",
       "</table>\n",
       "</div>"
      ],
      "text/plain": [
       "    Euclidean  Cosine\n",
       "0        0.52    0.97\n",
       "1        0.52    0.97\n",
       "2        0.52    0.98\n",
       "3        0.52    0.98\n",
       "4        0.53    0.97\n",
       "5        0.55    0.98\n",
       "6        0.50    0.98\n",
       "7        0.51    0.99\n",
       "8        0.50    0.99\n",
       "9        0.51    0.99\n",
       "10       0.50    0.99\n",
       "11       0.50    0.99\n",
       "12       0.50    0.99\n",
       "13       0.50    0.99\n",
       "14       0.50    0.99\n",
       "15       0.50    0.99\n",
       "16       0.50    0.98\n",
       "17       0.50    0.98\n",
       "18       0.50    0.99\n",
       "19       0.51    0.99"
      ]
     },
     "execution_count": 113,
     "metadata": {},
     "output_type": "execute_result"
    }
   ],
   "source": [
    "resultsTFxIDF[\"Euclidean\"] = euclideanListTFxIDF\n",
    "resultsTFxIDF[\"Cosine\"] = cosineListTFxIDF\n",
    "\n",
    "# Comparison between euclidean and cosine similarity shown as a table\n",
    "accuracyTableTFxIDF = pd.DataFrame(resultsTFxIDF, columns=['Euclidean', 'Cosine'])\n",
    "accuracyTableTFxIDF"
   ]
  },
  {
   "cell_type": "code",
   "execution_count": 115,
   "metadata": {},
   "outputs": [
    {
     "data": {
      "text/plain": [
       "<AxesSubplot:title={'center':'Comparison between Euclidean and Cosine Similarity with TFxIDF weights'}>"
      ]
     },
     "execution_count": 115,
     "metadata": {},
     "output_type": "execute_result"
    },
    {
     "data": {
      "image/png": "[encoded data removed]",
      "text/plain": [
       "<Figure size 432x288 with 1 Axes>"
      ]
     },
     "metadata": {
      "needs_background": "light"
     },
     "output_type": "display_data"
    }
   ],
   "source": [
    "accuracyTableTFxIDF.plot(kind='bar', title='Comparison between Euclidean and Cosine Similarity with TFxIDF weights')"
   ]
  },
  {
   "cell_type": "markdown",
   "metadata": {},
   "source": [
    "When comparing the K results between those weighted with TFxIDF and those without, the results seem fairly identical when it comes to using cosine similarity. The values for cosine similarity and that use TFxIDF weights are slightly greater than those without TFxIDF weights because most of the values for the weighted results are around 0.99 while the unweighted results are mostly 0.98 and 0.97. There is a large difference for the euclidean values when comparing the TFxIDF weighted values and the unweighted ones. The weighted values are about half of the unweighted values as a majority of them are around 0.5 while the unweighted values range from 0.74 to 0.85. Therefore, it seems that it is more accurate to use euclidean distance with unweighted values as opposed to using TFxIDF weighted values."
   ]
  },
  {
   "cell_type": "markdown",
   "metadata": {},
   "source": [
    "E) Create a new classifier based on the Rocchio Method adapted for text categorization [See ]. You should separate the training function from the classification function. The training part for the classifier can be implemented as a function that takes as input the training data matrix and the training labels, returning the prototype vectors for each class. The classification part can be implemented as another function that would take as input the prototypes returned from the training function and the instance to be classified. This function should measure Cosine similarity of the test instance to each prototype vector. Your output should indicate the predicted class for the test instance and the similarity values of the instance to each of the category prototypes. Finally, compute the classification accuracy using the test instances and compare your results to the best KNN approach you tried earlier."
   ]
  },
  {
   "cell_type": "code",
   "execution_count": 140,
   "metadata": {},
   "outputs": [],
   "source": [
    "# Creating the training function separate from the classification function \n",
    "# that takes as input training data matrix and labels.\n",
    "# Based on description in lecture slides.\n",
    "# Couldn't get the entire part of this problem to work as I wasn't able to find anything online or in the example code that could help me in fixing my errors\n",
    "# In the future I will make a greater effort to do more research for methods not in the example code\n",
    "def rocchio_training(train_data, train_labels):\n",
    "    numClass = np.unique(train_labels)\n",
    "    prototypeVector = {}\n",
    "    \n",
    "    # For each class we want to get all of the indexes that match our class then get the rows that pertain to each matched class.\n",
    "    # Then we add up the rows to get the prototype and add it to our prototype vector\n",
    "    for (i, cls) in enumerate(numClass):\n",
    "        indexes = np.array(train_labels.index[train_labels.iloc[:, 0] == cls])\n",
    "        rows = train_data[indexes]\n",
    "        prototype = np.sum(rows, axis=0)\n",
    "        prototypeVector.update({i : prototype})\n",
    "        \n",
    "    return prototypeVector"
   ]
  },
  {
   "cell_type": "code",
   "execution_count": 141,
   "metadata": {},
   "outputs": [],
   "source": [
    "# Classification function that takes in prototypes from the training function and the instance to be classified.\n",
    "def rocchio_classification(prototypes, instance):\n",
    "    cosineMax = -1\n",
    "    proto = -1\n",
    "    \n",
    "    # get cosine similarity between prototype and instance then update the cosineMax if greater than current max.\n",
    "    # Also update the prototype if the cosineMax is updated.\n",
    "    for k, v in prototypes.items():\n",
    "        cosine = dot(instance, v)/(norm(instance)*norm(v))\n",
    "        cosineMax = max(cosineMax, cosine)\n",
    "        if cosine > cosineMax:\n",
    "            proto = k\n",
    "    return proto"
   ]
  },
  {
   "cell_type": "code",
   "execution_count": 142,
   "metadata": {},
   "outputs": [],
   "source": [
    "# Function to compute the classification accuracy using the test instances\n",
    "def rocchio_compute(train_data, test_labels, prototypes):\n",
    "    total = len(train_data)\n",
    "    corr = 0\n",
    "    \n",
    "    for i in range(total):\n",
    "        label = rocchio_classification(prototypes, train_data[i])\n",
    "        if label == test_labels:\n",
    "            corr += 1\n",
    "    return corr/total"
   ]
  },
  {
   "cell_type": "code",
   "execution_count": 143,
   "metadata": {},
   "outputs": [
    {
     "ename": "AttributeError",
     "evalue": "'numpy.ndarray' object has no attribute 'index'",
     "output_type": "error",
     "traceback": [
      "\u001b[1;31m---------------------------------------------------------------------------\u001b[0m",
      "\u001b[1;31mAttributeError\u001b[0m                            Traceback (most recent call last)",
      "\u001b[1;32m<ipython-input-143-52cd5a7824b2>\u001b[0m in \u001b[0;36m<module>\u001b[1;34m\u001b[0m\n\u001b[1;32m----> 1\u001b[1;33m \u001b[0mprototypes\u001b[0m \u001b[1;33m=\u001b[0m \u001b[0mrocchio_training\u001b[0m\u001b[1;33m(\u001b[0m\u001b[0mDTM_train\u001b[0m\u001b[1;33m,\u001b[0m \u001b[0mlabels\u001b[0m\u001b[1;33m)\u001b[0m\u001b[1;33m\u001b[0m\u001b[1;33m\u001b[0m\u001b[0m\n\u001b[0m",
      "\u001b[1;32m<ipython-input-140-e7d38600aabf>\u001b[0m in \u001b[0;36mrocchio_training\u001b[1;34m(train_data, train_labels)\u001b[0m\n\u001b[0;32m      9\u001b[0m     \u001b[1;31m# Then we add up the rows to get the prototype and add it to our prototype vector\u001b[0m\u001b[1;33m\u001b[0m\u001b[1;33m\u001b[0m\u001b[1;33m\u001b[0m\u001b[0m\n\u001b[0;32m     10\u001b[0m     \u001b[1;32mfor\u001b[0m \u001b[1;33m(\u001b[0m\u001b[0mi\u001b[0m\u001b[1;33m,\u001b[0m \u001b[0mcls\u001b[0m\u001b[1;33m)\u001b[0m \u001b[1;32min\u001b[0m \u001b[0menumerate\u001b[0m\u001b[1;33m(\u001b[0m\u001b[0mnumClass\u001b[0m\u001b[1;33m)\u001b[0m\u001b[1;33m:\u001b[0m\u001b[1;33m\u001b[0m\u001b[1;33m\u001b[0m\u001b[0m\n\u001b[1;32m---> 11\u001b[1;33m         \u001b[0mindexes\u001b[0m \u001b[1;33m=\u001b[0m \u001b[0mnp\u001b[0m\u001b[1;33m.\u001b[0m\u001b[0marray\u001b[0m\u001b[1;33m(\u001b[0m\u001b[0mtrain_labels\u001b[0m\u001b[1;33m.\u001b[0m\u001b[0mindex\u001b[0m\u001b[1;33m[\u001b[0m\u001b[0mtrain_labels\u001b[0m\u001b[1;33m.\u001b[0m\u001b[0miloc\u001b[0m\u001b[1;33m[\u001b[0m\u001b[1;33m:\u001b[0m\u001b[1;33m,\u001b[0m \u001b[1;36m0\u001b[0m\u001b[1;33m]\u001b[0m \u001b[1;33m==\u001b[0m \u001b[0mcls\u001b[0m\u001b[1;33m]\u001b[0m\u001b[1;33m)\u001b[0m\u001b[1;33m\u001b[0m\u001b[1;33m\u001b[0m\u001b[0m\n\u001b[0m\u001b[0;32m     12\u001b[0m         \u001b[0mrows\u001b[0m \u001b[1;33m=\u001b[0m \u001b[0mtrain_data\u001b[0m\u001b[1;33m[\u001b[0m\u001b[0mindexes\u001b[0m\u001b[1;33m]\u001b[0m\u001b[1;33m\u001b[0m\u001b[1;33m\u001b[0m\u001b[0m\n\u001b[0;32m     13\u001b[0m         \u001b[0mprototype\u001b[0m \u001b[1;33m=\u001b[0m \u001b[0mnp\u001b[0m\u001b[1;33m.\u001b[0m\u001b[0msum\u001b[0m\u001b[1;33m(\u001b[0m\u001b[0mrows\u001b[0m\u001b[1;33m,\u001b[0m \u001b[0maxis\u001b[0m\u001b[1;33m=\u001b[0m\u001b[1;36m0\u001b[0m\u001b[1;33m)\u001b[0m\u001b[1;33m\u001b[0m\u001b[1;33m\u001b[0m\u001b[0m\n",
      "\u001b[1;31mAttributeError\u001b[0m: 'numpy.ndarray' object has no attribute 'index'"
     ]
    }
   ],
   "source": [
    "prototypes = rocchio_training(DTM_train, labels)"
   ]
  },
  {
   "cell_type": "code",
   "execution_count": null,
   "metadata": {},
   "outputs": [],
   "source": []
  }
 ],
 "metadata": {
  "kernelspec": {
   "display_name": "Python 3",
   "language": "python",
   "name": "python3"
  },
  "language_info": {
   "codemirror_mode": {
    "name": "ipython",
    "version": 3
   },
   "file_extension": ".py",
   "mimetype": "text/x-python",
   "name": "python",
   "nbconvert_exporter": "python",
   "pygments_lexer": "ipython3",
   "version": "3.8.2"
  }
 },
 "nbformat": 4,
 "nbformat_minor": 4
}
