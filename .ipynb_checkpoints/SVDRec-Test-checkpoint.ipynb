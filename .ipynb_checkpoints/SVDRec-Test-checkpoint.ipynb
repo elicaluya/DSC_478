{
 "cells": [
  {
   "cell_type": "code",
   "execution_count": 1,
   "metadata": {},
   "outputs": [],
   "source": [
    "from numpy import *\n",
    "from numpy import linalg as la\n",
    "import pandas as pd\n",
    "import pdb\n",
    "import numpy as np"
   ]
  },
  {
   "cell_type": "code",
   "execution_count": 2,
   "metadata": {},
   "outputs": [],
   "source": [
    "def loadData():\n",
    "    M =    [[0, 0, 0, 0, 0, 4, 0, 0, 0, 0, 5],\n",
    "           [0, 0, 0, 3, 0, 4, 0, 0, 0, 0, 3],\n",
    "           [0, 0, 0, 0, 4, 0, 0, 1, 0, 4, 0],\n",
    "           [3, 3, 4, 0, 0, 0, 0, 2, 2, 0, 0],\n",
    "           [5, 4, 5, 0, 0, 0, 0, 5, 5, 0, 0],\n",
    "           [0, 0, 0, 0, 5, 0, 1, 0, 0, 5, 0],\n",
    "           [4, 3, 4, 0, 0, 0, 0, 5, 5, 0, 1],\n",
    "           [0, 0, 0, 4, 0, 4, 0, 0, 0, 0, 4],\n",
    "           [0, 0, 0, 2, 0, 2, 5, 0, 0, 1, 2],\n",
    "           [0, 0, 0, 0, 5, 0, 0, 0, 0, 4, 0],\n",
    "           [1, 0, 0, 0, 0, 0, 0, 1, 2, 0, 0],\n",
    "           [2, 1, 0, 2, 0, 5, 3, 0, 1, 0, 1]]\n",
    "    return(np.mat(M))"
   ]
  },
  {
   "cell_type": "code",
   "execution_count": 3,
   "metadata": {},
   "outputs": [],
   "source": [
    "def euclidSim(inA,inB):\n",
    "    return 1.0/(1.0 + la.norm(inA - inB))\n",
    "\n",
    "def pearsonSim(inA,inB):\n",
    "    if len(inA) < 3 : return 1.0\n",
    "    return 0.5+0.5*corrcoef(inA, inB, rowvar = 0)[0][1]\n",
    "\n",
    "def cosineSim(inA,inB):\n",
    "    num = float(inA.T*inB)\n",
    "    denom = la.norm(inA)*la.norm(inB)\n",
    "    return 0.5+0.5*(num/denom)"
   ]
  },
  {
   "cell_type": "code",
   "execution_count": 4,
   "metadata": {},
   "outputs": [],
   "source": [
    "A = np.array([2,3,0,1,0,4,-5])\n",
    "B = np.array([0,1,2,-4,2,0,3])\n",
    "A = mat(A)\n",
    "B = mat(B)"
   ]
  },
  {
   "cell_type": "code",
   "execution_count": 5,
   "metadata": {},
   "outputs": [
    {
     "name": "stdout",
     "output_type": "stream",
     "text": [
      "0.08333333333333333\n"
     ]
    }
   ],
   "source": [
    "print(euclidSim(A.T,B.T))"
   ]
  },
  {
   "cell_type": "code",
   "execution_count": 6,
   "metadata": {},
   "outputs": [
    {
     "name": "stdout",
     "output_type": "stream",
     "text": [
      "0.3150010839748479\n"
     ]
    }
   ],
   "source": [
    "print(cosineSim(A.T,B.T))"
   ]
  },
  {
   "cell_type": "code",
   "execution_count": 7,
   "metadata": {},
   "outputs": [
    {
     "name": "stdout",
     "output_type": "stream",
     "text": [
      "0.2665380020120951\n"
     ]
    }
   ],
   "source": [
    "print(pearsonSim(A.T,B.T))"
   ]
  },
  {
   "cell_type": "code",
   "execution_count": 8,
   "metadata": {},
   "outputs": [],
   "source": [
    "def standEst(dataMat, user, simMeas, item):\n",
    "    n = shape(dataMat)[1]\n",
    "    simTotal = 0.0; ratSimTotal = 0.0\n",
    "    for j in range(n):\n",
    "        userRating = dataMat[user,j]\n",
    "        if userRating == 0: \n",
    "            continue\n",
    "        overLap = nonzero(logical_and(dataMat[:,item]>0, dataMat[:,j]>0))[0]\n",
    "        if len(overLap) == 0: \n",
    "            similarity = 0\n",
    "        else: \n",
    "            similarity = simMeas(dataMat[overLap,item], dataMat[overLap,j])\n",
    "        #print('the %d and %d similarity is: %f' % (item, j, similarity))\n",
    "        simTotal += similarity\n",
    "        ratSimTotal += similarity * userRating\n",
    "    if simTotal == 0: return 0\n",
    "    else: return ratSimTotal/simTotal"
   ]
  },
  {
   "cell_type": "code",
   "execution_count": 9,
   "metadata": {},
   "outputs": [],
   "source": [
    "def svdEst(dataMat, user, simMeas, item):\n",
    "    n = shape(dataMat)[1]\n",
    "    simTotal = 0.0; ratSimTotal = 0.0\n",
    "    data=mat(dataMat)\n",
    "    U,Sigma,VT = la.svd(data)\n",
    "    Sig4 = mat(eye(4)*Sigma[:4]) #arrange Sig4 into a diagonal matrix\n",
    "    xformedItems = data.T * U[:,:4] * Sig4.I  #create transformed items\n",
    "    for j in range(n):\n",
    "        userRating = data[user,j]\n",
    "        if userRating == 0 or j==item: continue\n",
    "        similarity = simMeas(xformedItems[item,:].T, xformedItems[j,:].T)\n",
    "        #print('the %d and %d similarity is: %f' % (item, j, similarity))\n",
    "        simTotal += similarity\n",
    "        ratSimTotal += similarity * userRating\n",
    "    if simTotal == 0: return 0\n",
    "    else: return ratSimTotal/simTotal"
   ]
  },
  {
   "cell_type": "code",
   "execution_count": 10,
   "metadata": {},
   "outputs": [],
   "source": [
    "def recommend(dataMat, user, N=3, simMeas=cosineSim, estMethod=standEst):\n",
    "    unratedItems = nonzero(dataMat[user,:].A==0)[1] #find unrated items \n",
    "    if len(unratedItems) == 0: return 'you rated everything'\n",
    "    itemScores = []\n",
    "    for item in unratedItems:\n",
    "        estimatedScore = estMethod(dataMat, user, simMeas, item)\n",
    "        itemScores.append((item, estimatedScore))\n",
    "    return sorted(itemScores, key=lambda jj: jj[1], reverse=True)[:N]"
   ]
  },
  {
   "cell_type": "code",
   "execution_count": 11,
   "metadata": {
    "scrolled": true
   },
   "outputs": [
    {
     "name": "stdout",
     "output_type": "stream",
     "text": [
      "[[0 0 0 0 0 4 0 0 0 0 5]\n",
      " [0 0 0 3 0 4 0 0 0 0 3]\n",
      " [0 0 0 0 4 0 0 1 0 4 0]\n",
      " [3 3 4 0 0 0 0 2 2 0 0]\n",
      " [5 4 5 0 0 0 0 5 5 0 0]\n",
      " [0 0 0 0 5 0 1 0 0 5 0]\n",
      " [4 3 4 0 0 0 0 5 5 0 1]\n",
      " [0 0 0 4 0 4 0 0 0 0 4]\n",
      " [0 0 0 2 0 2 5 0 0 1 2]\n",
      " [0 0 0 0 5 0 0 0 0 4 0]\n",
      " [1 0 0 0 0 0 0 1 2 0 0]\n",
      " [2 1 0 2 0 5 3 0 1 0 1]]\n"
     ]
    }
   ],
   "source": [
    "data = loadData()\n",
    "print(data)"
   ]
  },
  {
   "cell_type": "code",
   "execution_count": 12,
   "metadata": {},
   "outputs": [
    {
     "name": "stdout",
     "output_type": "stream",
     "text": [
      "[[-0.45889187  0.03170418 -0.01809311  0.11036907]\n",
      " [-0.3622062   0.04692163 -0.01141864  0.04254964]\n",
      " [-0.45537578  0.10423397 -0.00800224 -0.05403528]\n",
      " [-0.051868   -0.39701598 -0.05950012  0.06753374]\n",
      " [-0.01726089 -0.08392364  0.71965471 -0.13098077]\n",
      " [-0.09964753 -0.67126432 -0.11207725 -0.04038616]\n",
      " [-0.04619366 -0.25745027  0.05860349  0.87744841]\n",
      " [-0.45397947  0.09523267  0.03757744 -0.09430203]\n",
      " [-0.46909953  0.0672883  -0.0131357   0.00911101]\n",
      " [-0.01955354 -0.10798751  0.67233514  0.01344801]\n",
      " [-0.09629148 -0.52832652 -0.09176174 -0.42505074]]\n"
     ]
    }
   ],
   "source": [
    "D=mat(data)\n",
    "U,Sigma,VT = la.svd(D)\n",
    "Sig4 = mat(eye(4)*Sigma[:4]) #arrange Sig4 into a diagonal matrix\n",
    "xItems = data.T * U[:,:4] * Sig4.I  #create transformed items\n",
    "print(xItems)"
   ]
  },
  {
   "cell_type": "code",
   "execution_count": 13,
   "metadata": {},
   "outputs": [
    {
     "name": "stdout",
     "output_type": "stream",
     "text": [
      "[(4, 5.0), (9, 5.0), (10, 4.804196825932594), (3, 4.666666666666667)]\n"
     ]
    }
   ],
   "source": [
    "user = 4\n",
    "recommendations = recommend(data, user, N=4, simMeas=cosineSim, estMethod=standEst)\n",
    "print(recommendations)"
   ]
  },
  {
   "cell_type": "code",
   "execution_count": 14,
   "metadata": {},
   "outputs": [
    {
     "name": "stdout",
     "output_type": "stream",
     "text": [
      "Recommended Items for User 4 :\n",
      "\n",
      "Item  4 with predicted rating:  5.0 \n",
      "\n",
      "Item  9 with predicted rating:  5.0 \n",
      "\n",
      "Item  10 with predicted rating:  4.804196825932594 \n",
      "\n",
      "Item  3 with predicted rating:  4.666666666666667 \n",
      "\n"
     ]
    }
   ],
   "source": [
    "print(\"Recommended Items for User\", user, \":\\n\")\n",
    "for i, p in recommendations:\n",
    "    print(\"Item \", i, \"with predicted rating: \", p, \"\\n\")\n"
   ]
  },
  {
   "cell_type": "code",
   "execution_count": 15,
   "metadata": {},
   "outputs": [
    {
     "name": "stdout",
     "output_type": "stream",
     "text": [
      "[(10, 4.808129974963378), (4, 4.807852789245039), (9, 4.8035168885389705), (5, 4.795384164777591)]\n"
     ]
    }
   ],
   "source": [
    "user = 4\n",
    "recommendations = recommend(data, user, N=4, simMeas=cosineSim, estMethod=svdEst)\n",
    "print(recommendations)"
   ]
  },
  {
   "cell_type": "code",
   "execution_count": 16,
   "metadata": {},
   "outputs": [
    {
     "name": "stdout",
     "output_type": "stream",
     "text": [
      "Recommended Items for User 4 :\n",
      "\n",
      "Item  10 with predicted rating:  4.808129974963378 \n",
      "\n",
      "Item  4 with predicted rating:  4.807852789245039 \n",
      "\n",
      "Item  9 with predicted rating:  4.8035168885389705 \n",
      "\n",
      "Item  5 with predicted rating:  4.795384164777591 \n",
      "\n"
     ]
    }
   ],
   "source": [
    "print(\"Recommended Items for User\", user, \":\\n\")\n",
    "for i, p in recommendations:\n",
    "    print(\"Item \", i, \"with predicted rating: \", p, \"\\n\")"
   ]
  },
  {
   "cell_type": "code",
   "execution_count": null,
   "metadata": {},
   "outputs": [],
   "source": []
  }
 ],
 "metadata": {
  "kernelspec": {
   "display_name": "Python 3",
   "language": "python",
   "name": "python3"
  },
  "language_info": {
   "codemirror_mode": {
    "name": "ipython",
    "version": 3
   },
   "file_extension": ".py",
   "mimetype": "text/x-python",
   "name": "python",
   "nbconvert_exporter": "python",
   "pygments_lexer": "ipython3",
   "version": "3.8.2"
  }
 },
 "nbformat": 4,
 "nbformat_minor": 2
}
