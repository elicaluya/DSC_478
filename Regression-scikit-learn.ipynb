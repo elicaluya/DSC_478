{
 "cells": [
  {
   "cell_type": "markdown",
   "metadata": {},
   "source": [
    "#### Example of Regression Analysis Using the Boston Housing Data Set."
   ]
  },
  {
   "cell_type": "code",
   "execution_count": 1,
   "metadata": {},
   "outputs": [],
   "source": [
    "from sklearn.model_selection import KFold\n",
    "from sklearn.linear_model import LinearRegression, Lasso, Ridge, ElasticNet, SGDRegressor\n",
    "import numpy as np\n",
    "import pylab as pl\n"
   ]
  },
  {
   "cell_type": "code",
   "execution_count": 2,
   "metadata": {},
   "outputs": [],
   "source": [
    "from sklearn.datasets import load_boston\n",
    "boston = load_boston()"
   ]
  },
  {
   "cell_type": "code",
   "execution_count": 3,
   "metadata": {},
   "outputs": [
    {
     "name": "stdout",
     "output_type": "stream",
     "text": [
      ".. _boston_dataset:\n",
      "\n",
      "Boston house prices dataset\n",
      "---------------------------\n",
      "\n",
      "**Data Set Characteristics:**  \n",
      "\n",
      "    :Number of Instances: 506 \n",
      "\n",
      "    :Number of Attributes: 13 numeric/categorical predictive. Median Value (attribute 14) is usually the target.\n",
      "\n",
      "    :Attribute Information (in order):\n",
      "        - CRIM     per capita crime rate by town\n",
      "        - ZN       proportion of residential land zoned for lots over 25,000 sq.ft.\n",
      "        - INDUS    proportion of non-retail business acres per town\n",
      "        - CHAS     Charles River dummy variable (= 1 if tract bounds river; 0 otherwise)\n",
      "        - NOX      nitric oxides concentration (parts per 10 million)\n",
      "        - RM       average number of rooms per dwelling\n",
      "        - AGE      proportion of owner-occupied units built prior to 1940\n",
      "        - DIS      weighted distances to five Boston employment centres\n",
      "        - RAD      index of accessibility to radial highways\n",
      "        - TAX      full-value property-tax rate per $10,000\n",
      "        - PTRATIO  pupil-teacher ratio by town\n",
      "        - B        1000(Bk - 0.63)^2 where Bk is the proportion of blacks by town\n",
      "        - LSTAT    % lower status of the population\n",
      "        - MEDV     Median value of owner-occupied homes in $1000's\n",
      "\n",
      "    :Missing Attribute Values: None\n",
      "\n",
      "    :Creator: Harrison, D. and Rubinfeld, D.L.\n",
      "\n",
      "This is a copy of UCI ML housing dataset.\n",
      "https://archive.ics.uci.edu/ml/machine-learning-databases/housing/\n",
      "\n",
      "\n",
      "This dataset was taken from the StatLib library which is maintained at Carnegie Mellon University.\n",
      "\n",
      "The Boston house-price data of Harrison, D. and Rubinfeld, D.L. 'Hedonic\n",
      "prices and the demand for clean air', J. Environ. Economics & Management,\n",
      "vol.5, 81-102, 1978.   Used in Belsley, Kuh & Welsch, 'Regression diagnostics\n",
      "...', Wiley, 1980.   N.B. Various transformations are used in the table on\n",
      "pages 244-261 of the latter.\n",
      "\n",
      "The Boston house-price data has been used in many machine learning papers that address regression\n",
      "problems.   \n",
      "     \n",
      ".. topic:: References\n",
      "\n",
      "   - Belsley, Kuh & Welsch, 'Regression diagnostics: Identifying Influential Data and Sources of Collinearity', Wiley, 1980. 244-261.\n",
      "   - Quinlan,R. (1993). Combining Instance-Based and Model-Based Learning. In Proceedings on the Tenth International Conference of Machine Learning, 236-243, University of Massachusetts, Amherst. Morgan Kaufmann.\n",
      "\n"
     ]
    }
   ],
   "source": [
    "print (boston.DESCR)"
   ]
  },
  {
   "cell_type": "code",
   "execution_count": 4,
   "metadata": {},
   "outputs": [
    {
     "name": "stdout",
     "output_type": "stream",
     "text": [
      "['CRIM' 'ZN' 'INDUS' 'CHAS' 'NOX' 'RM' 'AGE' 'DIS' 'RAD' 'TAX' 'PTRATIO'\n",
      " 'B' 'LSTAT']\n"
     ]
    }
   ],
   "source": [
    "print (boston.feature_names)"
   ]
  },
  {
   "cell_type": "code",
   "execution_count": 5,
   "metadata": {},
   "outputs": [
    {
     "name": "stdout",
     "output_type": "stream",
     "text": [
      "(506, 13)\n",
      "(506,)\n"
     ]
    }
   ],
   "source": [
    "print (boston.data.shape)\n",
    "print (boston.target.shape)"
   ]
  },
  {
   "cell_type": "code",
   "execution_count": 6,
   "metadata": {},
   "outputs": [],
   "source": [
    "np.set_printoptions(precision=2, linewidth=120, suppress=True, edgeitems=7)"
   ]
  },
  {
   "cell_type": "code",
   "execution_count": 7,
   "metadata": {},
   "outputs": [
    {
     "name": "stdout",
     "output_type": "stream",
     "text": [
      "[[  0.01  18.     2.31   0.     0.54   6.58  65.2    4.09   1.   296.    15.3  396.9    4.98]\n",
      " [  0.03   0.     7.07   0.     0.47   6.42  78.9    4.97   2.   242.    17.8  396.9    9.14]\n",
      " [  0.03   0.     7.07   0.     0.47   7.18  61.1    4.97   2.   242.    17.8  392.83   4.03]\n",
      " [  0.03   0.     2.18   0.     0.46   7.    45.8    6.06   3.   222.    18.7  394.63   2.94]\n",
      " [  0.07   0.     2.18   0.     0.46   7.15  54.2    6.06   3.   222.    18.7  396.9    5.33]\n",
      " [  0.03   0.     2.18   0.     0.46   6.43  58.7    6.06   3.   222.    18.7  394.12   5.21]\n",
      " [  0.09  12.5    7.87   0.     0.52   6.01  66.6    5.56   5.   311.    15.2  395.6   12.43]\n",
      " ...\n",
      " [  0.18   0.     9.69   0.     0.58   5.57  73.5    2.4    6.   391.    19.2  395.77  15.1 ]\n",
      " [  0.22   0.     9.69   0.     0.58   6.03  79.7    2.5    6.   391.    19.2  396.9   14.33]\n",
      " [  0.06   0.    11.93   0.     0.57   6.59  69.1    2.48   1.   273.    21.   391.99   9.67]\n",
      " [  0.05   0.    11.93   0.     0.57   6.12  76.7    2.29   1.   273.    21.   396.9    9.08]\n",
      " [  0.06   0.    11.93   0.     0.57   6.98  91.     2.17   1.   273.    21.   396.9    5.64]\n",
      " [  0.11   0.    11.93   0.     0.57   6.79  89.3    2.39   1.   273.    21.   393.45   6.48]\n",
      " [  0.05   0.    11.93   0.     0.57   6.03  80.8    2.5    1.   273.    21.   396.9    7.88]]\n"
     ]
    }
   ],
   "source": [
    "print (boston.data)"
   ]
  },
  {
   "cell_type": "code",
   "execution_count": 8,
   "metadata": {},
   "outputs": [],
   "source": [
    "# In order to do multiple regression we need to add a column of 1s for x0\n",
    "x = np.array([np.concatenate((v,[1])) for v in boston.data])\n",
    "y = boston.target"
   ]
  },
  {
   "cell_type": "code",
   "execution_count": 9,
   "metadata": {},
   "outputs": [
    {
     "name": "stdout",
     "output_type": "stream",
     "text": [
      "[[  0.01  18.     2.31   0.     0.54   6.58  65.2    4.09   1.   296.    15.3  396.9    4.98   1.  ]\n",
      " [  0.03   0.     7.07   0.     0.47   6.42  78.9    4.97   2.   242.    17.8  396.9    9.14   1.  ]\n",
      " [  0.03   0.     7.07   0.     0.47   7.18  61.1    4.97   2.   242.    17.8  392.83   4.03   1.  ]\n",
      " [  0.03   0.     2.18   0.     0.46   7.    45.8    6.06   3.   222.    18.7  394.63   2.94   1.  ]\n",
      " [  0.07   0.     2.18   0.     0.46   7.15  54.2    6.06   3.   222.    18.7  396.9    5.33   1.  ]\n",
      " [  0.03   0.     2.18   0.     0.46   6.43  58.7    6.06   3.   222.    18.7  394.12   5.21   1.  ]\n",
      " [  0.09  12.5    7.87   0.     0.52   6.01  66.6    5.56   5.   311.    15.2  395.6   12.43   1.  ]\n",
      " [  0.14  12.5    7.87   0.     0.52   6.17  96.1    5.95   5.   311.    15.2  396.9   19.15   1.  ]\n",
      " [  0.21  12.5    7.87   0.     0.52   5.63 100.     6.08   5.   311.    15.2  386.63  29.93   1.  ]\n",
      " [  0.17  12.5    7.87   0.     0.52   6.    85.9    6.59   5.   311.    15.2  386.71  17.1    1.  ]]\n"
     ]
    }
   ],
   "source": [
    "# First 10 elements of the data\n",
    "print (x[:10])"
   ]
  },
  {
   "cell_type": "code",
   "execution_count": 9,
   "metadata": {},
   "outputs": [
    {
     "name": "stdout",
     "output_type": "stream",
     "text": [
      "[24.  21.6 34.7 33.4 36.2 28.7 22.9 27.1 16.5 18.9]\n"
     ]
    }
   ],
   "source": [
    "# First 10 elements of the response variable\n",
    "print (y[:10])"
   ]
  },
  {
   "cell_type": "code",
   "execution_count": null,
   "metadata": {},
   "outputs": [],
   "source": [
    "#print(x.shape)\n",
    "#print(x)\n",
    "#print(y.shape)"
   ]
  },
  {
   "cell_type": "code",
   "execution_count": 10,
   "metadata": {},
   "outputs": [
    {
     "data": {
      "text/plain": [
       "LinearRegression()"
      ]
     },
     "execution_count": 10,
     "metadata": {},
     "output_type": "execute_result"
    }
   ],
   "source": [
    "# Create linear regression object\n",
    "linreg = LinearRegression()\n",
    "\n",
    "# Train the model using the training sets\n",
    "linreg.fit(x,y)"
   ]
  },
  {
   "cell_type": "code",
   "execution_count": 11,
   "metadata": {},
   "outputs": [
    {
     "name": "stdout",
     "output_type": "stream",
     "text": [
      "[30.   25.03 30.57 28.61 27.94 25.26 23.   19.54 11.52 18.92]\n"
     ]
    }
   ],
   "source": [
    "# Let's see predictions for the first 10 instances\n",
    "print (linreg.predict(x[:10]))"
   ]
  },
  {
   "cell_type": "code",
   "execution_count": 12,
   "metadata": {},
   "outputs": [
    {
     "name": "stdout",
     "output_type": "stream",
     "text": [
      "[6.   3.43 4.13 4.79 8.26 3.44 0.1  7.56 4.98 0.02]\n"
     ]
    }
   ],
   "source": [
    "# Compute RMSE on training data\n",
    "p = linreg.predict(x)\n",
    "\n",
    "# Now we can constuct a vector of errors\n",
    "err = abs(p-y)\n",
    "\n",
    "# Let's see the error on the first 10 predictions\n",
    "print (err[:10])"
   ]
  },
  {
   "cell_type": "code",
   "execution_count": 13,
   "metadata": {},
   "outputs": [
    {
     "name": "stdout",
     "output_type": "stream",
     "text": [
      "4.679191295697281\n",
      "4.68\n"
     ]
    }
   ],
   "source": [
    "# Dot product of error vector with itself gives us the sum of squared errors\n",
    "total_error = np.dot(err,err)\n",
    "\n",
    "# Compute RMSE\n",
    "rmse_train = np.sqrt(total_error/len(p))\n",
    "print (rmse_train)\n",
    "print(round(rmse_train,2))"
   ]
  },
  {
   "cell_type": "code",
   "execution_count": 14,
   "metadata": {},
   "outputs": [
    {
     "name": "stdout",
     "output_type": "stream",
     "text": [
      "Regression Coefficients: \n",
      " [ -0.11   0.05   0.02   2.69 -17.77   3.81   0.    -1.48   0.31  -0.01  -0.95   0.01  -0.52   0.  ]\n"
     ]
    }
   ],
   "source": [
    "# We can view the regression coefficients\n",
    "print ('Regression Coefficients: \\n', linreg.coef_)"
   ]
  },
  {
   "cell_type": "code",
   "execution_count": 15,
   "metadata": {},
   "outputs": [
    {
     "data": {
      "image/png": "[encoded data removed]",
      "text/plain": [
       "<Figure size 432x288 with 1 Axes>"
      ]
     },
     "metadata": {
      "needs_background": "light"
     },
     "output_type": "display_data"
    }
   ],
   "source": [
    "%matplotlib inline\n",
    "def plot_coefficients(model, n_features, feature_names):\n",
    "    pl.barh(range(n_features), model.coef_[:-1], align='center')\n",
    "    pl.yticks(np.arange(n_features), feature_names)\n",
    "    pl.xlabel(\"Coefficient Value\")\n",
    "    pl.ylabel(\"Feature\")\n",
    "    pl.ylim(-1, n_features)\n",
    "\n",
    "plot_coefficients(linreg, len(boston.feature_names), boston.feature_names)"
   ]
  },
  {
   "cell_type": "code",
   "execution_count": 16,
   "metadata": {},
   "outputs": [
    {
     "name": "stdout",
     "output_type": "stream",
     "text": [
      "36.45948838509001\n"
     ]
    }
   ],
   "source": [
    "print (linreg.intercept_)"
   ]
  },
  {
   "cell_type": "code",
   "execution_count": 17,
   "metadata": {},
   "outputs": [
    {
     "data": {
      "image/png": "[encoded data removed]",
      "text/plain": [
       "<Figure size 432x288 with 1 Axes>"
      ]
     },
     "metadata": {
      "needs_background": "light"
     },
     "output_type": "display_data"
    }
   ],
   "source": [
    "# Plot outputs\n",
    "%matplotlib inline\n",
    "pl.plot(p, y,'ro')\n",
    "pl.plot([0,50],[0,50], 'g-')\n",
    "pl.xlabel('predicted')\n",
    "pl.ylabel('real')\n",
    "pl.show()\n"
   ]
  },
  {
   "cell_type": "code",
   "execution_count": 18,
   "metadata": {},
   "outputs": [],
   "source": [
    "# Now let's compute RMSE using 10-fold x-validation\n",
    "n = 10\n",
    "#kf = KFold(len(x),n_splits=n)\n",
    "\n",
    "kf = KFold(n_splits=n)\n",
    "kf.get_n_splits(x)\n",
    "\n",
    "#print(kf)  \n",
    "#KFold(n_splits=n,random_state=None, shuffle=False)\n",
    " \n",
    "\n",
    "xval_err = 0\n",
    "#or train,test in kf:\n",
    "for train, test in kf.split(x):\n",
    "    linreg.fit(x[train],y[train])\n",
    "    p = linreg.predict(x[test])\n",
    "    e = p-y[test]\n",
    "    xval_err += np.sqrt(np.dot(e,e)/len(x[test]))\n",
    "       \n",
    "rmse_10cv = xval_err/n"
   ]
  },
  {
   "cell_type": "code",
   "execution_count": 19,
   "metadata": {},
   "outputs": [
    {
     "name": "stdout",
     "output_type": "stream",
     "text": [
      "Method: Simple Linear Regression\n",
      "RMSE on training: 4.6792\n",
      "RMSE on 10-fold CV: 5.1808\n"
     ]
    }
   ],
   "source": [
    "method_name = 'Simple Linear Regression'\n",
    "print('Method: %s' %method_name)\n",
    "print('RMSE on training: %.4f' %rmse_train)\n",
    "print('RMSE on 10-fold CV: %.4f' %rmse_10cv)"
   ]
  },
  {
   "cell_type": "markdown",
   "metadata": {},
   "source": [
    "#### Let's try Ridge Regression:"
   ]
  },
  {
   "cell_type": "code",
   "execution_count": 20,
   "metadata": {},
   "outputs": [
    {
     "data": {
      "text/plain": [
       "Ridge(alpha=0.5)"
      ]
     },
     "execution_count": 20,
     "metadata": {},
     "output_type": "execute_result"
    }
   ],
   "source": [
    "# Create linear regression object with a ridge coefficient 0.5\n",
    "ridge = Ridge(fit_intercept=True, alpha=0.5)\n",
    "\n",
    "# Train the model using the training set\n",
    "ridge.fit(x,y)"
   ]
  },
  {
   "cell_type": "code",
   "execution_count": 21,
   "metadata": {},
   "outputs": [
    {
     "name": "stdout",
     "output_type": "stream",
     "text": [
      "KFold(n_splits=10, random_state=None, shuffle=False)\n",
      "Method: Ridge Regression\n",
      "RMSE on training: 4.6854\n",
      "RMSE on 10-fold CV: 4.3427\n"
     ]
    }
   ],
   "source": [
    "# Compute RMSE on training data\n",
    "p = ridge.predict(x)\n",
    "err = p-y\n",
    "total_error = np.dot(err,err)\n",
    "rmse_train = np.sqrt(total_error/len(p))\n",
    "\n",
    "# Compute RMSE using 10-fold x-validation\n",
    "n = 10\n",
    "#kf = KFold(len(x), n_folds=n)\n",
    "\n",
    "kf = KFold(n_splits=n)\n",
    "kf.get_n_splits(x)\n",
    "\n",
    "print(kf)  \n",
    "KFold(n_splits=n,random_state=None, shuffle=False)\n",
    " \n",
    "\n",
    "xval_err = 0\n",
    "for train, test in kf.split(x):\n",
    "    ridge.fit(x[train],y[train])\n",
    "    p = linreg.predict(x[test])\n",
    "    e = p-y[test]\n",
    "    xval_err += np.sqrt(np.dot(e,e)/len(x[test]))\n",
    "rmse_10cv = xval_err/n\n",
    "\n",
    "method_name = 'Ridge Regression'\n",
    "print('Method: %s' %method_name)\n",
    "print('RMSE on training: %.4f' %rmse_train)\n",
    "print('RMSE on 10-fold CV: %.4f' %rmse_10cv)"
   ]
  },
  {
   "cell_type": "markdown",
   "metadata": {},
   "source": [
    "#### We can try different values of alpha and observe the impact on x-validation RMSE"
   ]
  },
  {
   "cell_type": "code",
   "execution_count": 22,
   "metadata": {},
   "outputs": [
    {
     "name": "stdout",
     "output_type": "stream",
     "text": [
      "Ridge Regression\n",
      "alpha\t RMSE_train\t RMSE_10cv\n",
      "\n",
      "0.010\t 4.6792\t\t 5.1787\n",
      "0.418\t 4.6839\t\t 5.1245\n",
      "0.826\t 4.6917\t\t 5.1011\n",
      "1.234\t 4.6996\t\t 5.0893\n",
      "1.642\t 4.7066\t\t 5.0826\n",
      "2.050\t 4.7128\t\t 5.0785\n",
      "2.458\t 4.7182\t\t 5.0756\n",
      "2.866\t 4.7230\t\t 5.0735\n",
      "3.274\t 4.7271\t\t 5.0718\n",
      "3.682\t 4.7308\t\t 5.0704\n",
      "4.090\t 4.7341\t\t 5.0691\n",
      "4.498\t 4.7370\t\t 5.0679\n",
      "4.906\t 4.7397\t\t 5.0668\n",
      "5.313\t 4.7421\t\t 5.0657\n",
      "5.721\t 4.7443\t\t 5.0647\n",
      "6.129\t 4.7464\t\t 5.0637\n",
      "6.537\t 4.7483\t\t 5.0628\n",
      "6.945\t 4.7500\t\t 5.0618\n",
      "7.353\t 4.7516\t\t 5.0609\n",
      "7.761\t 4.7532\t\t 5.0599\n",
      "8.169\t 4.7546\t\t 5.0590\n",
      "8.577\t 4.7560\t\t 5.0581\n",
      "8.985\t 4.7573\t\t 5.0573\n",
      "9.393\t 4.7585\t\t 5.0564\n",
      "9.801\t 4.7597\t\t 5.0556\n",
      "10.209\t 4.7609\t\t 5.0547\n",
      "10.617\t 4.7620\t\t 5.0539\n",
      "11.025\t 4.7630\t\t 5.0531\n",
      "11.433\t 4.7640\t\t 5.0523\n",
      "11.841\t 4.7650\t\t 5.0515\n",
      "12.249\t 4.7659\t\t 5.0507\n",
      "12.657\t 4.7668\t\t 5.0500\n",
      "13.065\t 4.7677\t\t 5.0492\n",
      "13.473\t 4.7686\t\t 5.0485\n",
      "13.881\t 4.7695\t\t 5.0478\n",
      "14.289\t 4.7703\t\t 5.0471\n",
      "14.697\t 4.7711\t\t 5.0464\n",
      "15.104\t 4.7719\t\t 5.0458\n",
      "15.512\t 4.7727\t\t 5.0451\n",
      "15.920\t 4.7734\t\t 5.0444\n",
      "16.328\t 4.7742\t\t 5.0438\n",
      "16.736\t 4.7749\t\t 5.0432\n",
      "17.144\t 4.7757\t\t 5.0426\n",
      "17.552\t 4.7764\t\t 5.0420\n",
      "17.960\t 4.7771\t\t 5.0414\n",
      "18.368\t 4.7778\t\t 5.0408\n",
      "18.776\t 4.7785\t\t 5.0403\n",
      "19.184\t 4.7791\t\t 5.0397\n",
      "19.592\t 4.7798\t\t 5.0392\n",
      "20.000\t 4.7805\t\t 5.0387\n"
     ]
    }
   ],
   "source": [
    "print('Ridge Regression')\n",
    "print('alpha\\t RMSE_train\\t RMSE_10cv\\n')\n",
    "alpha = np.linspace(.01,20,50)\n",
    "t_rmse = np.array([])\n",
    "cv_rmse = np.array([])\n",
    "\n",
    "for a in alpha:\n",
    "    ridge = Ridge(alpha=a)\n",
    "    \n",
    "    # computing the RMSE on training data\n",
    "    ridge.fit(x,y)\n",
    "    p = ridge.predict(x)\n",
    "    err = p-y\n",
    "    total_error = np.dot(err,err)\n",
    "    rmse_train = np.sqrt(total_error/len(p))\n",
    "\n",
    "    kf = KFold(n_splits=10)\n",
    "    kf.get_n_splits(x)\n",
    " \n",
    "    KFold(n_splits=10,random_state=None, shuffle=False)\n",
    "    # computing RMSE using 10-fold cross validation\n",
    "    #kf = KFold(len(x), n_folds=10)\n",
    "    xval_err = 0\n",
    "    for train, test in kf.split(x):\n",
    "        ridge.fit(x[train], y[train])\n",
    "        p = ridge.predict(x[test])\n",
    "        err = p - y[test]\n",
    "        xval_err += np.sqrt(np.dot(err,err)/len(x[test]))\n",
    "    rmse_10cv = xval_err/n\n",
    "    \n",
    "    t_rmse = np.append(t_rmse, [rmse_train])\n",
    "    cv_rmse = np.append(cv_rmse, [rmse_10cv])\n",
    "    print('{:.3f}\\t {:.4f}\\t\\t {:.4f}'.format(a,rmse_train,rmse_10cv))"
   ]
  },
  {
   "cell_type": "code",
   "execution_count": 23,
   "metadata": {},
   "outputs": [
    {
     "data": {
      "image/png": "[encoded data removed]",
      "text/plain": [
       "<Figure size 432x288 with 1 Axes>"
      ]
     },
     "metadata": {
      "needs_background": "light"
     },
     "output_type": "display_data"
    }
   ],
   "source": [
    "pl.plot(alpha, t_rmse, label='RMSE-Train')\n",
    "pl.plot(alpha, cv_rmse, label='RMSE_XVal')\n",
    "pl.legend( ('RMSE-Train', 'RMSE_XVal') )\n",
    "pl.ylabel('RMSE')\n",
    "pl.xlabel('Alpha')\n",
    "pl.show()"
   ]
  },
  {
   "cell_type": "markdown",
   "metadata": {},
   "source": [
    "#### To make comparisons across methods easier, let's parametrize the regression methods:"
   ]
  },
  {
   "cell_type": "code",
   "execution_count": 24,
   "metadata": {},
   "outputs": [
    {
     "name": "stdout",
     "output_type": "stream",
     "text": [
      "Method: linear regression\n",
      "RMSE on training: 4.6792\n",
      "RMSE on 10-fold CV: 5.8770\n",
      "\n",
      "\n",
      "Method: lasso\n",
      "RMSE on training: 4.8563\n",
      "RMSE on 10-fold CV: 5.7637\n",
      "\n",
      "\n",
      "Method: ridge\n",
      "RMSE on training: 4.6819\n",
      "RMSE on 10-fold CV: 5.8487\n",
      "\n",
      "\n",
      "Method: elastic-net\n",
      "RMSE on training: 4.9067\n",
      "RMSE on 10-fold CV: 5.4921\n",
      "\n",
      "\n"
     ]
    }
   ],
   "source": [
    "a = 0.3\n",
    "for name,met in [\n",
    "        ('linear regression', LinearRegression()),\n",
    "        ('lasso', Lasso(fit_intercept=True, alpha=a)),\n",
    "        ('ridge', Ridge(fit_intercept=True, alpha=a)),\n",
    "        ('elastic-net', ElasticNet(fit_intercept=True, alpha=a))\n",
    "        ]:\n",
    "    met.fit(x,y)\n",
    "    p = met.predict(x)\n",
    "    e = p-y\n",
    "    total_error = np.dot(e,e)\n",
    "    rmse_train = np.sqrt(total_error/len(p))\n",
    "\n",
    "    #kf = KFold(len(x), n_folds=10)\n",
    "    kf = KFold(n_splits=10)\n",
    "    kf.get_n_splits(x)\n",
    "\n",
    "    KFold(n_splits=n,random_state=None, shuffle=False)\n",
    "    err = 0\n",
    "    for train,test in kf.split(x):\n",
    "        met.fit(x[train],y[train])\n",
    "        p = met.predict(x[test])\n",
    "        e = p-y[test]\n",
    "        err += np.dot(e,e)\n",
    "    rmse_10cv = np.sqrt(err/len(x))\n",
    "    \n",
    "    print('Method: %s' %name)\n",
    "    print('RMSE on training: %.4f' %rmse_train)\n",
    "    print('RMSE on 10-fold CV: %.4f' %rmse_10cv)\n",
    "    print (\"\\n\")"
   ]
  },
  {
   "cell_type": "markdown",
   "metadata": {},
   "source": [
    "#### Now let's try to do regression via Stochastic Gradient Descent."
   ]
  },
  {
   "cell_type": "code",
   "execution_count": 26,
   "metadata": {
    "scrolled": true
   },
   "outputs": [
    {
     "name": "stdout",
     "output_type": "stream",
     "text": [
      "[[-0.42  0.28 -1.29 -0.27 -0.14  0.41 -0.12  0.14 -0.98 -0.67 -1.46  0.44 -1.08  0.  ]\n",
      " [-0.42 -0.49 -0.59 -0.27 -0.74  0.19  0.37  0.56 -0.87 -0.99 -0.3   0.44 -0.49  0.  ]\n",
      " [-0.42 -0.49 -0.59 -0.27 -0.74  1.28 -0.27  0.56 -0.87 -0.99 -0.3   0.4  -1.21  0.  ]\n",
      " [-0.42 -0.49 -1.31 -0.27 -0.84  1.02 -0.81  1.08 -0.75 -1.11  0.11  0.42 -1.36  0.  ]\n",
      " [-0.41 -0.49 -1.31 -0.27 -0.84  1.23 -0.51  1.08 -0.75 -1.11  0.11  0.44 -1.03  0.  ]\n",
      " [-0.42 -0.49 -1.31 -0.27 -0.84  0.21 -0.35  1.08 -0.75 -1.11  0.11  0.41 -1.04  0.  ]\n",
      " [-0.41  0.05 -0.48 -0.27 -0.27 -0.39 -0.07  0.84 -0.52 -0.58 -1.51  0.43 -0.03  0.  ]\n",
      " ...\n",
      " [-0.4  -0.49 -0.21 -0.27  0.26 -1.02  0.18 -0.66 -0.41 -0.1   0.34  0.43  0.34  0.  ]\n",
      " [-0.39 -0.49 -0.21 -0.27  0.26 -0.37  0.4  -0.62 -0.41 -0.1   0.34  0.44  0.24  0.  ]\n",
      " [-0.41 -0.49  0.12 -0.27  0.16  0.44  0.02 -0.63 -0.98 -0.8   1.18  0.39 -0.42  0.  ]\n",
      " [-0.42 -0.49  0.12 -0.27  0.16 -0.23  0.29 -0.72 -0.98 -0.8   1.18  0.44 -0.5   0.  ]\n",
      " [-0.41 -0.49  0.12 -0.27  0.16  0.98  0.8  -0.77 -0.98 -0.8   1.18  0.44 -0.98  0.  ]\n",
      " [-0.41 -0.49  0.12 -0.27  0.16  0.73  0.74 -0.67 -0.98 -0.8   1.18  0.4  -0.87  0.  ]\n",
      " [-0.42 -0.49  0.12 -0.27  0.16 -0.36  0.43 -0.61 -0.98 -0.8   1.18  0.44 -0.67  0.  ]]\n",
      "Method: Stochastic Gradient Descent Regression\n",
      "RMSE on training: 4.7627\n",
      "RMSE on 10-fold CV: 5.6320\n"
     ]
    }
   ],
   "source": [
    "# SGD is very senstitive to varying-sized feature values. So, first we need to do feature scaling.\n",
    "\n",
    "from sklearn.preprocessing import StandardScaler\n",
    "\n",
    "scaler = StandardScaler()\n",
    "scaler.fit(x)\n",
    "x_s = scaler.transform(x)\n",
    "\n",
    "print(x_s)\n",
    "\n",
    "sgdreg = SGDRegressor(penalty='l2', alpha=0.1, max_iter=300)\n",
    "\n",
    "# Compute RMSE on training data\n",
    "sgdreg.fit(x_s,y)\n",
    "p = sgdreg.predict(x_s)\n",
    "err = p-y\n",
    "total_error = np.dot(err,err)\n",
    "rmse_train = np.sqrt(total_error/len(p))\n",
    "\n",
    "# Compute RMSE using 10-fold x-validation\n",
    "#kf = KFold(len(x), n_folds=10)\n",
    "kf = KFold(n_splits=10)\n",
    "kf.get_n_splits(x)\n",
    "\n",
    "KFold(n_splits=n,random_state=None, shuffle=False)\n",
    "    \n",
    "xval_err = 0\n",
    "for train,test in kf.split(x):\n",
    "    scaler = StandardScaler()\n",
    "    scaler.fit(x[train])  # Don't cheat - fit only on training data\n",
    "    xtrain_s = scaler.transform(x[train])\n",
    "    xtest_s = scaler.transform(x[test])  # apply same transformation to test data\n",
    "    sgdreg.fit(xtrain_s,y[train])\n",
    "    p = sgdreg.predict(xtest_s)\n",
    "    e = p-y[test]\n",
    "    xval_err += np.dot(e,e)\n",
    "rmse_10cv = np.sqrt(xval_err/len(x))\n",
    "\n",
    "method_name = 'Stochastic Gradient Descent Regression'\n",
    "print('Method: %s' %method_name)\n",
    "print('RMSE on training: %.4f' %rmse_train)\n",
    "print('RMSE on 10-fold CV: %.4f' %rmse_10cv)"
   ]
  },
  {
   "cell_type": "markdown",
   "metadata": {},
   "source": [
    "#### Using the regression implementation from Machine Learning in Action, Chapter 8:"
   ]
  },
  {
   "cell_type": "code",
   "execution_count": 25,
   "metadata": {},
   "outputs": [],
   "source": [
    "def standRegres(xArr,yArr):\n",
    "    xMat = np.mat(xArr); yMat = np.mat(yArr).T\n",
    "    xTx = xMat.T*xMat\n",
    "    if np.linalg.det(xTx) == 0.0:\n",
    "        print (\"This matrix is singular, cannot do inverse\")\n",
    "        return\n",
    "    ws = xTx.I * (xMat.T*yMat)\n",
    "    return ws"
   ]
  },
  {
   "cell_type": "code",
   "execution_count": 26,
   "metadata": {},
   "outputs": [],
   "source": [
    "w = standRegres(x,y)"
   ]
  },
  {
   "cell_type": "code",
   "execution_count": 27,
   "metadata": {},
   "outputs": [
    {
     "name": "stdout",
     "output_type": "stream",
     "text": [
      "[[ -0.11]\n",
      " [  0.05]\n",
      " [  0.02]\n",
      " [  2.69]\n",
      " [-17.77]\n",
      " [  3.81]\n",
      " [  0.  ]\n",
      " [ -1.48]\n",
      " [  0.31]\n",
      " [ -0.01]\n",
      " [ -0.95]\n",
      " [  0.01]\n",
      " [ -0.52]\n",
      " [ 36.46]]\n"
     ]
    }
   ],
   "source": [
    "print (w)"
   ]
  },
  {
   "cell_type": "code",
   "execution_count": 30,
   "metadata": {},
   "outputs": [],
   "source": [
    "def ridgeRegres(xArr,yArr,lam=0.2):\n",
    "    xMat = np.mat(xArr); yMat = np.mat(yArr).T\n",
    "    xTx = xMat.T*xMat\n",
    "    denom = xTx + np.eye(np.shape(xMat)[1])*lam\n",
    "    if np.linalg.det(denom) == 0.0:\n",
    "        print (\"This matrix is singular, cannot do inverse\")\n",
    "        return\n",
    "    ws = denom.I * (xMat.T*yMat)\n",
    "    return ws"
   ]
  },
  {
   "cell_type": "code",
   "execution_count": 31,
   "metadata": {},
   "outputs": [
    {
     "name": "stdout",
     "output_type": "stream",
     "text": [
      "[[-0.1 ]\n",
      " [ 0.05]\n",
      " [-0.  ]\n",
      " [ 2.68]\n",
      " [-9.53]\n",
      " [ 4.56]\n",
      " [-0.  ]\n",
      " [-1.26]\n",
      " [ 0.25]\n",
      " [-0.01]\n",
      " [-0.73]\n",
      " [ 0.01]\n",
      " [-0.49]\n",
      " [21.76]]\n"
     ]
    }
   ],
   "source": [
    "w_ridge = ridgeRegres(x,y,0.5)\n",
    "print (w_ridge)"
   ]
  },
  {
   "cell_type": "markdown",
   "metadata": {},
   "source": [
    "#### Now that we have the regression coefficients, we can compute the predictions:"
   ]
  },
  {
   "cell_type": "code",
   "execution_count": 32,
   "metadata": {},
   "outputs": [],
   "source": [
    "xMat=np.mat(x)\n",
    "yMat=np.mat(y)\n",
    "yHat = xMat*w_ridge"
   ]
  },
  {
   "cell_type": "code",
   "execution_count": 33,
   "metadata": {},
   "outputs": [
    {
     "data": {
      "text/plain": [
       "(506, 1)"
      ]
     },
     "execution_count": 33,
     "metadata": {},
     "output_type": "execute_result"
    }
   ],
   "source": [
    "yHat.shape"
   ]
  },
  {
   "cell_type": "code",
   "execution_count": 34,
   "metadata": {},
   "outputs": [
    {
     "name": "stdout",
     "output_type": "stream",
     "text": [
      "[[29.8 ]\n",
      " [24.75]\n",
      " [30.78]\n",
      " [29.12]\n",
      " [28.61]\n",
      " [25.35]\n",
      " [22.48]\n",
      " [19.28]\n",
      " [11.21]\n",
      " [18.65]]\n"
     ]
    }
   ],
   "source": [
    "print (yHat[0:10])"
   ]
  },
  {
   "cell_type": "code",
   "execution_count": 35,
   "metadata": {},
   "outputs": [
    {
     "name": "stdout",
     "output_type": "stream",
     "text": [
      "[[24. ]\n",
      " [21.6]\n",
      " [34.7]\n",
      " [33.4]\n",
      " [36.2]\n",
      " [28.7]\n",
      " [22.9]\n",
      " [27.1]\n",
      " [16.5]\n",
      " [18.9]]\n"
     ]
    }
   ],
   "source": [
    "print (yMat.T[0:10])"
   ]
  },
  {
   "cell_type": "markdown",
   "metadata": {},
   "source": [
    "#### Model evaluation and cross validation can be performed as before."
   ]
  },
  {
   "cell_type": "code",
   "execution_count": 36,
   "metadata": {},
   "outputs": [
    {
     "data": {
      "text/plain": [
       "array([29.8 , 24.75, 30.78, 29.12, 28.61, 25.35, 22.48, 19.28, 11.21, 18.65, 19.03, 21.15, 20.51, 20.15, 19.84, 19.79,\n",
       "       21.17, 17.52, 16.23, 18.68, 12.83, 18.15, 16.6 , 14.34, 16.27, 13.62, 15.97, 15.29, 20.45, 21.86, 12.  , 18.54,\n",
       "        9.45, 14.57, 14.11, 23.35, 21.87, 22.83, 22.8 , 31.37, 34.5 , 28.21, 24.95, 24.47, 22.57, 21.37, 19.91, 17.7 ,\n",
       "        8.69, 16.69, 20.87, 23.44, 27.51, 23.63, 16.11, 32.02, 25.3 , 32.9 , 22.18, 21.13, 17.87, 18.45, 24.3 , 23.48,\n",
       "       24.42, 29.71, 24.61, 20.81, 16.99, 20.45, 24.99, 21.23, 24.05, 23.72, 25.05, 23.41, 22.21, 22.65, 20.85, 21.64,\n",
       "       28.49, 26.86, 25.86, 24.71, 24.63, 27.58, 21.77, 25.22, 30.6 , 30.94, 26.74, 26.96, 28.32, 28.36, 26.22, 28.09,\n",
       "       24.01, 36.23, 35.56, 32.35, 25.09, 26.15, 19.38, 20.46, 21.48, 18.39, 17.15, 20.78, 22.89, 19.99, 21.01, 26.49,\n",
       "       20.21, 20.35, 24.68, 19.8 , 23.06, 23.15, 19.73, 20.23, 21.62, 22.15, 20.26, 16.17, 20.16, 22.12, 14.24, 15.59,\n",
       "       19.85, 14.53, 20.93, 20.25, 20.88, 16.35, 13.57, 18.22, 16.49, 20.26, 14.45, 17.22, 14.54,  4.4 , 15.54, 13.16,\n",
       "        9.41, 13.11, 16.16,  9.24, 10.55, 15.7 , 21.92, 18.74, 20.29, 17.89, 23.41, 20.76, 13.6 , 32.49, 27.6 , 26.72,\n",
       "       31.4 , 36.39, 40.42, 42.23, 23.66, 24.02, 37.2 , 21.71, 25.3 , 25.74, 21.3 , 23.06, 21.69, 28.26, 25.4 , 30.25,\n",
       "       24.94, 28.36, 30.98, 32.73, 35.05, 27.03, 33.6 , 30.31, 21.65, 24.25, 36.41, 32.51, 31.47, 34.05, 30.59, 29.92,\n",
       "       32.84, 31.8 , 31.  , 40.83, 35.66, 32.11, 34.28, 30.6 , 31.24, 28.4 , 37.25, 41.87, 43.14, 22.35, 23.59, 17.47,\n",
       "       23.23, 16.22, 21.91, 16.36, 22.25, 25.11, 10.93, 24.22, 25.84, 27.95, 24.1 , 29.05, 32.76, 23.19, 31.82, 29.15,\n",
       "       38.77, 40.54, 37.82, 32.09, 35.84, 30.75, 23.64, 33.25, 38.71, 37.77, 31.29, 24.53, 29.77, 32.81, 27.97, 27.98,\n",
       "       27.17, 23.01, 23.72, 27.07, 16.  , 13.35, 20.25, 19.94, 21.61, 24.73, 24.6 , 25.3 , 25.93, 31.94, 23.89, 21.6 ,\n",
       "       37.41, 44.17, 36.35, 34.5 , 34.81, 37.28, 41.73, 34.52, 35.68, 27.12, 31.23, 41.12, 39.03, 25.15, 21.9 , 27.03,\n",
       "       28.25, 36.16, 35.68, 33.42, 35.7 , 34.68, 29.87, 34.3 , 38.44, 33.64, 39.99, 44.55, 31.75, 26.88, 20.53, 26.45,\n",
       "       26.63, 26.65, 33.49, 34.68, 31.78, 24.86, 23.31, 27.86, 26.59, 18.54, 28.4 , 31.77, 30.39, 28.31, 28.24, 32.41,\n",
       "       33.48, 30.41, 35.59, 32.38, 28.62, 23.24, 17.54, 26.54, 22.89, 25.34, 25.6 , 20.22, 17.65, 18.32, 24.4 , 21.47,\n",
       "       25.07, 25.  , 22.84, 19.16, 25.37, 25.18, 24.07, 19.7 , 20.66, 24.03, 21.34, 19.63, 23.03, 22.99, 22.44, 21.27,\n",
       "       20.52, 19.7 , 22.58, 21.6 , 21.69, 30.66, 22.49, 28.01, 29.2 , 16.91, 15.07, 25.87, 27.99, 23.62, 21.56, 21.56,\n",
       "       17.59, 26.34, 15.63, 18.02, 20.7 , 23.89, 23.22, 20.21, 23.65, 19.9 , 18.39, 20.8 , 39.58, 12.46, 14.92,  8.23,\n",
       "       22.1 , 32.26, 34.45, 24.36, 25.44,  5.79,  0.01, 26.18, 18.37, 20.91, 16.4 , 17.16, 15.63, 19.04, 13.53, 13.16,\n",
       "        2.6 ,  8.23,  5.8 ,  5.73,  6.28, 14.14, 17.3 , 17.78,  9.76, 20.55, 18.1 , 20.85, 19.86, 16.41,  6.94, 11.36,\n",
       "       12.47, 18.38, 18.81, 12.91,  7.7 ,  8.68,  6.71, 19.23, 12.91, 19.51, 13.61, 16.23, -0.06, 10.4 , -4.94,  9.7 ,\n",
       "       13.62,  6.37,  5.97, 15.25, 20.12, 18.37, 17.63, 12.32, 13.02,  9.47, 15.  , 13.77, 14.16, 13.02, 17.23, 18.17,\n",
       "       20.58, 17.25, 15.97, 14.16, 14.85,  9.11,  5.4 , 13.62, 13.47, 18.34, 19.51, 19.11, 11.97, 12.49, 18.46, 18.99,\n",
       "       18.18, 17.89, 16.79, 20.33, 19.31, 24.  , 15.63, 16.09, 12.52, 12.7 , 17.8 , 19.15, 19.84, 20.94, 20.57, 23.22,\n",
       "       20.69, 17.9 , 13.75, 16.44, 16.64, 18.07, 19.88, 22.2 , 22.31, 25.96, 15.38, 15.68, 20.63, 10.87, 19.01, 21.57,\n",
       "       22.86, 26.68, 28.37, 20.36, 19.19, 22.24, 19.45, 20.88, 11.86,  8.24,  3.6 , 14.13, 16.29, 20.59, 20.86, 17.23,\n",
       "       14.04, 19.23, 21.47, 18.32, 20.64, 24.45, 22.85, 28.52, 26.96, 22.74])"
      ]
     },
     "execution_count": 36,
     "metadata": {},
     "output_type": "execute_result"
    }
   ],
   "source": [
    "yHat.A.ravel()"
   ]
  },
  {
   "cell_type": "code",
   "execution_count": 37,
   "metadata": {},
   "outputs": [
    {
     "data": {
      "text/plain": [
       "(506, 1)"
      ]
     },
     "execution_count": 37,
     "metadata": {},
     "output_type": "execute_result"
    }
   ],
   "source": [
    "yHat.A.shape"
   ]
  },
  {
   "cell_type": "code",
   "execution_count": null,
   "metadata": {},
   "outputs": [],
   "source": []
  },
  {
   "cell_type": "code",
   "execution_count": null,
   "metadata": {},
   "outputs": [],
   "source": []
  },
  {
   "cell_type": "code",
   "execution_count": null,
   "metadata": {},
   "outputs": [],
   "source": []
  },
  {
   "cell_type": "code",
   "execution_count": null,
   "metadata": {},
   "outputs": [],
   "source": []
  }
 ],
 "metadata": {
  "kernelspec": {
   "display_name": "Python 3",
   "language": "python",
   "name": "python3"
  },
  "language_info": {
   "codemirror_mode": {
    "name": "ipython",
    "version": 3
   },
   "file_extension": ".py",
   "mimetype": "text/x-python",
   "name": "python",
   "nbconvert_exporter": "python",
   "pygments_lexer": "ipython3",
   "version": "3.8.2"
  }
 },
 "nbformat": 4,
 "nbformat_minor": 1
}
