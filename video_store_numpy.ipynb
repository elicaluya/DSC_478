{
 "cells": [
  {
   "cell_type": "code",
   "execution_count": 1,
   "metadata": {},
   "outputs": [],
   "source": [
    "import numpy as np"
   ]
  },
  {
   "cell_type": "code",
   "execution_count": 2,
   "metadata": {},
   "outputs": [
    {
     "name": "stdout",
     "output_type": "stream",
     "text": [
      "[WinError 3] The system cannot find the path specified: 'C:\\\\Users\\\\elica/classes/DSC478/data'\n",
      "C:\\Users\\elica\\Desktop\\depaul_grad\\DSC_478\n"
     ]
    }
   ],
   "source": [
    "cd ~/classes/DSC478/data"
   ]
  },
  {
   "cell_type": "markdown",
   "metadata": {},
   "source": [
    "#### In this example, we consider the use of Numpy in handling a typical relational dataset (__[video_store.csv](../data/video_store.csv)__). Since some fields are not numeric, we cannot use \"loadtxt\" function to load the table. Instead we can use the more general function \"genfromtxt\" to load the data with dtype=None. This will create the 2d array with strings as entries. The numeric fields can later be converted into the appropriate data type."
   ]
  },
  {
   "cell_type": "code",
   "execution_count": 3,
   "metadata": {},
   "outputs": [
    {
     "name": "stdout",
     "output_type": "stream",
     "text": [
      "[['ID' 'Gender' 'Income' 'Age' 'Rentals' 'AvgPerVisit' 'Genre']\n",
      " ['1' 'M' '45000 ' '25' '27' '2.5' 'Action']\n",
      " ['2' 'F' '54000 ' '33' '12' '3.4' 'Drama']\n",
      " ['3' 'F' '32000 ' '20' '42' '1.6' 'Comedy']\n",
      " ['4' 'F' '59000 ' '70' '16' '4.2' 'Drama']\n",
      " ['5' 'M' '37000 ' '35' '25' '3.2' 'Action']\n",
      " ['6' 'M' '18000 ' '20' '33' '1.7' 'Action']\n",
      " ['7' 'F' '29000 ' '45' '19' '3.8' 'Drama']\n",
      " ['8' 'M' '74000 ' '25' '31' '2.4' 'Action']\n",
      " ['9' 'M' '38000 ' '21' '18' '2.1' 'Comedy']\n",
      " ['10' 'F' '65000 ' '40' '21' '3.3' 'Drama']\n",
      " ['11' 'F' '41000 ' '22' '48' '2.3' 'Drama']\n",
      " ['12' 'F' '26000 ' '22' '29' '2.9' 'Action']\n",
      " ['13' 'M' '83000 ' '46' '14' '3.6' 'Comedy']\n",
      " ['14' 'M' '45000 ' '36' '24' '2.7' 'Drama']\n",
      " ['15' 'M' '68000 ' '30' '36' '2.7' 'Comedy']\n",
      " ['16' 'M' '17000 ' '19' '26' '2.2' 'Action']\n",
      " ['17' 'M' '36000 ' '35' '28' '3.5' 'Drama']\n",
      " ['18' 'F' '6000 ' '16' '39' '1.8' 'Action']\n",
      " ['19' 'F' '24000 ' '25' '41' '3.1' 'Comedy']\n",
      " ['20' 'M' '12000 ' '16' '23' '2.2' 'Action']\n",
      " ['21' 'F' '47000 ' '52' '11' '3.1' 'Drama']\n",
      " ['22' 'M' '25000 ' '33' '16' '2.9' 'Drama']\n",
      " ['23' 'F' '2000 ' '15' '30' '2.5' 'Comedy']\n",
      " ['24' 'F' '79000 ' '35' '22' '3.8' 'Drama']\n",
      " ['25' 'M' '1000 ' '16' '25' '1.4' 'Comedy']\n",
      " ['26' 'F' '56000 ' '35' '40' '2.6' 'Action']\n",
      " ['27' 'F' '62000 ' '47' '32' '3.6' 'Drama']\n",
      " ['28' 'M' '57000 ' '52' '22' '4.1' 'Comedy']\n",
      " ['29' 'F' '15000 ' '18' '37' '2.1' 'Action']\n",
      " ['30' 'M' '41000 ' '25' '17' '1.4' 'Action']\n",
      " ['31' 'F' '49000 ' '56' '15' '3.2' 'Comedy']\n",
      " ['32' 'M' '47000 ' '30' '21' '3.1' 'Drama']\n",
      " ['33' 'M' '23000 ' '25' '28' '2.7' 'Action']\n",
      " ['34' 'F' '29000 ' '32' '19' '2.9' 'Action']\n",
      " ['35' 'M' '74000 ' '29' '43' '4.6' 'Action']\n",
      " ['36' 'F' '29000 ' '21' '34' '2.3' 'Comedy']\n",
      " ['37' 'M' '89000 ' '46' '12' '1.2' 'Comedy']\n",
      " ['38' 'M' '41000 ' '38' '20' '3.3' 'Drama']\n",
      " ['39' 'F' '68000 ' '35' '19' '3.9' 'Comedy']\n",
      " ['40' 'M' '17000 ' '19' '32' '1.8' 'Action']]\n"
     ]
    }
   ],
   "source": [
    "vstable = np.genfromtxt(\"video_store.csv\", delimiter=\",\", dtype=str)\n",
    "print (vstable)"
   ]
  },
  {
   "cell_type": "code",
   "execution_count": 4,
   "metadata": {},
   "outputs": [
    {
     "name": "stdout",
     "output_type": "stream",
     "text": [
      "['ID' 'Gender' 'Income' 'Age' 'Rentals' 'AvgPerVisit' 'Genre']\n"
     ]
    }
   ],
   "source": [
    "labels = vstable[0]\n",
    "print (labels)"
   ]
  },
  {
   "cell_type": "code",
   "execution_count": 5,
   "metadata": {},
   "outputs": [
    {
     "data": {
      "text/plain": [
       "array([['1', 'M', '45000 ', '25', '27', '2.5', 'Action'],\n",
       "       ['2', 'F', '54000 ', '33', '12', '3.4', 'Drama'],\n",
       "       ['3', 'F', '32000 ', '20', '42', '1.6', 'Comedy'],\n",
       "       ['4', 'F', '59000 ', '70', '16', '4.2', 'Drama'],\n",
       "       ['5', 'M', '37000 ', '35', '25', '3.2', 'Action']], dtype='<U11')"
      ]
     },
     "execution_count": 5,
     "metadata": {},
     "output_type": "execute_result"
    }
   ],
   "source": [
    "vstable = vstable[1:]\n",
    "vstable[0:5]"
   ]
  },
  {
   "cell_type": "markdown",
   "metadata": {},
   "source": [
    "#### Now we can convert columns to the appropriate type as necessary:"
   ]
  },
  {
   "cell_type": "code",
   "execution_count": 6,
   "metadata": {},
   "outputs": [
    {
     "name": "stdout",
     "output_type": "stream",
     "text": [
      "[25 33 20 70 35 20 45 25 21 40 22 22 46 36 30 19 35 16 25 16 52 33 15 35\n",
      " 16 35 47 52 18 25 56 30 25 32 29 21 46 38 35 19]\n"
     ]
    }
   ],
   "source": [
    "age = np.array(vstable[:,3], dtype=int)\n",
    "print (age)"
   ]
  },
  {
   "cell_type": "code",
   "execution_count": 7,
   "metadata": {},
   "outputs": [
    {
     "name": "stdout",
     "output_type": "stream",
     "text": [
      "[45000. 54000. 32000. 59000. 37000. 18000. 29000. 74000. 38000. 65000.\n",
      " 41000. 26000. 83000. 45000. 68000. 17000. 36000.  6000. 24000. 12000.\n",
      " 47000. 25000.  2000. 79000.  1000. 56000. 62000. 57000. 15000. 41000.\n",
      " 49000. 47000. 23000. 29000. 74000. 29000. 89000. 41000. 68000. 17000.]\n"
     ]
    }
   ],
   "source": [
    "sal = np.array(vstable[:,2], dtype=float)\n",
    "print (sal)"
   ]
  },
  {
   "cell_type": "code",
   "execution_count": 8,
   "metadata": {},
   "outputs": [
    {
     "name": "stdout",
     "output_type": "stream",
     "text": [
      "1000.0 89000.0\n"
     ]
    }
   ],
   "source": [
    "min_sal = sal.min()\n",
    "max_sal = sal.max()\n",
    "print (min_sal, max_sal)"
   ]
  },
  {
   "cell_type": "code",
   "execution_count": 9,
   "metadata": {},
   "outputs": [],
   "source": [
    "visit_avg = np.array(vstable[:,5], dtype=float)\n",
    "rentals = np.array(vstable[:,4], dtype=float)"
   ]
  },
  {
   "cell_type": "markdown",
   "metadata": {},
   "source": [
    "#### Let's normalize Income using standard Python list comprehensions"
   ]
  },
  {
   "cell_type": "code",
   "execution_count": 10,
   "metadata": {},
   "outputs": [
    {
     "name": "stdout",
     "output_type": "stream",
     "text": [
      "[0.5, 0.6022727272727273, 0.3522727272727273, 0.6590909090909091, 0.4090909090909091, 0.19318181818181818, 0.3181818181818182, 0.8295454545454546, 0.42045454545454547, 0.7272727272727273, 0.45454545454545453, 0.2840909090909091, 0.9318181818181818, 0.5, 0.7613636363636364, 0.18181818181818182, 0.3977272727272727, 0.056818181818181816, 0.26136363636363635, 0.125, 0.5227272727272727, 0.2727272727272727, 0.011363636363636364, 0.8863636363636364, 0.0, 0.625, 0.6931818181818182, 0.6363636363636364, 0.1590909090909091, 0.45454545454545453, 0.5454545454545454, 0.5227272727272727, 0.25, 0.3181818181818182, 0.8295454545454546, 0.3181818181818182, 1.0, 0.45454545454545453, 0.7613636363636364, 0.18181818181818182]\n"
     ]
    }
   ],
   "source": [
    "norm_sal = [(x-min_sal)/(max_sal-min_sal) for x in sal]\n",
    "print (norm_sal)"
   ]
  },
  {
   "cell_type": "markdown",
   "metadata": {},
   "source": [
    "#### But, we can do this more easily and efficiently with NumPy"
   ]
  },
  {
   "cell_type": "code",
   "execution_count": 11,
   "metadata": {},
   "outputs": [
    {
     "name": "stdout",
     "output_type": "stream",
     "text": [
      "[0.5    0.6023 0.3523 0.6591 0.4091 0.1932 0.3182 0.8295 0.4205 0.7273 0.4545\n",
      " 0.2841 0.9318 0.5    0.7614 0.1818 0.3977 0.0568 0.2614 0.125  0.5227 0.2727\n",
      " 0.0114 0.8864 0.     0.625  0.6932 0.6364 0.1591 0.4545 0.5455 0.5227 0.25\n",
      " 0.3182 0.8295 0.3182 1.     0.4545 0.7614 0.1818]\n"
     ]
    }
   ],
   "source": [
    "np.set_printoptions(precision=4, linewidth=80, suppress=True)\n",
    "\n",
    "sal_range = max_sal - min_sal\n",
    "norm_sal = (sal - min_sal) / sal_range\n",
    "print (norm_sal)\n"
   ]
  },
  {
   "cell_type": "markdown",
   "metadata": {},
   "source": [
    "#### Z-Score Standardization on Age"
   ]
  },
  {
   "cell_type": "code",
   "execution_count": 12,
   "metadata": {},
   "outputs": [
    {
     "name": "stdout",
     "output_type": "stream",
     "text": [
      "31.5 12.591663909110663\n"
     ]
    }
   ],
   "source": [
    "age_mean = age.mean()\n",
    "age_std = age.std()\n",
    "print (age_mean, age_std)"
   ]
  },
  {
   "cell_type": "code",
   "execution_count": 13,
   "metadata": {},
   "outputs": [
    {
     "name": "stdout",
     "output_type": "stream",
     "text": [
      "[-0.5162  0.1191 -0.9133  3.0576  0.278  -0.9133  1.0721 -0.5162 -0.8339\n",
      "  0.675  -0.7545 -0.7545  1.1516  0.3574 -0.1191 -0.9927  0.278  -1.231\n",
      " -0.5162 -1.231   1.6281  0.1191 -1.3104  0.278  -1.231   0.278   1.231\n",
      "  1.6281 -1.0721 -0.5162  1.9457 -0.1191 -0.5162  0.0397 -0.1985 -0.8339\n",
      "  1.1516  0.5162  0.278  -0.9927]\n"
     ]
    }
   ],
   "source": [
    "age_znorm = (age - age_mean) / age_std\n",
    "print (age_znorm)"
   ]
  },
  {
   "cell_type": "markdown",
   "metadata": {},
   "source": [
    "#### Suppose that we would like to find all \"good cutomers\" defined as those with Rentals value of >= 30:"
   ]
  },
  {
   "cell_type": "code",
   "execution_count": 14,
   "metadata": {},
   "outputs": [
    {
     "name": "stdout",
     "output_type": "stream",
     "text": [
      "[['3' 'F' '32000 ' '20' '42' '1.6' 'Comedy']\n",
      " ['6' 'M' '18000 ' '20' '33' '1.7' 'Action']\n",
      " ['8' 'M' '74000 ' '25' '31' '2.4' 'Action']\n",
      " ['11' 'F' '41000 ' '22' '48' '2.3' 'Drama']\n",
      " ['15' 'M' '68000 ' '30' '36' '2.7' 'Comedy']\n",
      " ['18' 'F' '6000 ' '16' '39' '1.8' 'Action']\n",
      " ['19' 'F' '24000 ' '25' '41' '3.1' 'Comedy']\n",
      " ['23' 'F' '2000 ' '15' '30' '2.5' 'Comedy']\n",
      " ['26' 'F' '56000 ' '35' '40' '2.6' 'Action']\n",
      " ['27' 'F' '62000 ' '47' '32' '3.6' 'Drama']\n",
      " ['29' 'F' '15000 ' '18' '37' '2.1' 'Action']\n",
      " ['35' 'M' '74000 ' '29' '43' '4.6' 'Action']\n",
      " ['36' 'F' '29000 ' '21' '34' '2.3' 'Comedy']\n",
      " ['40' 'M' '17000 ' '19' '32' '1.8' 'Action']]\n"
     ]
    }
   ],
   "source": [
    "is_good = np.array(rentals >= 30)\n",
    "good_cust = np.array(vstable[is_good])\n",
    "print (good_cust)"
   ]
  },
  {
   "cell_type": "markdown",
   "metadata": {},
   "source": [
    "#### Now, suppose we want to change the Gender atrribute into binary (converting it from one cateogrical attribute with two values into two attributes (say 'Gender_F' and 'Gender_M') with 0 or 1 as values depending on the original value. These new variables are sometimes called \"dummy\" variable. The purpose of this transfromation is to allow for the application of technqiues that require all attributes to be numerical (e.g., regression analysis or correlation analysis). Below, we show how this could be done manually for illustration purposes. In practice (as we shall see later in this notebook), there are Python libraries and packages that perform this type of transformation automatically."
   ]
  },
  {
   "cell_type": "code",
   "execution_count": 15,
   "metadata": {},
   "outputs": [
    {
     "data": {
      "text/plain": [
       "array(['M', 'F', 'F', 'F', 'M', 'M', 'F', 'M', 'M', 'F', 'F', 'F', 'M', 'M',\n",
       "       'M', 'M', 'M', 'F', 'F', 'M', 'F', 'M', 'F', 'F', 'M', 'F', 'F', 'M',\n",
       "       'F', 'M', 'F', 'M', 'M', 'F', 'M', 'F', 'M', 'M', 'F', 'M'],\n",
       "      dtype='<U11')"
      ]
     },
     "execution_count": 15,
     "metadata": {},
     "output_type": "execute_result"
    }
   ],
   "source": [
    "gender = np.array(vstable[:,1])\n",
    "gender"
   ]
  },
  {
   "cell_type": "code",
   "execution_count": 16,
   "metadata": {},
   "outputs": [
    {
     "data": {
      "text/plain": [
       "array([0., 0., 0., 0., 0., 0., 0., 0., 0., 0., 0., 0., 0., 0., 0., 0., 0., 0.,\n",
       "       0., 0., 0., 0., 0., 0., 0., 0., 0., 0., 0., 0., 0., 0., 0., 0., 0., 0.,\n",
       "       0., 0., 0., 0.])"
      ]
     },
     "execution_count": 16,
     "metadata": {},
     "output_type": "execute_result"
    }
   ],
   "source": [
    "gen_f = np.zeros(len(gender))\n",
    "gen_f"
   ]
  },
  {
   "cell_type": "code",
   "execution_count": 17,
   "metadata": {},
   "outputs": [
    {
     "data": {
      "text/plain": [
       "array([0., 1., 1., 1., 0., 0., 1., 0., 0., 1., 1., 1., 0., 0., 0., 0., 0., 1.,\n",
       "       1., 0., 1., 0., 1., 1., 0., 1., 1., 0., 1., 0., 1., 0., 0., 1., 0., 1.,\n",
       "       0., 0., 1., 0.])"
      ]
     },
     "execution_count": 17,
     "metadata": {},
     "output_type": "execute_result"
    }
   ],
   "source": [
    "gen_f[gender=='F'] = 1\n",
    "gen_f"
   ]
  },
  {
   "cell_type": "code",
   "execution_count": 18,
   "metadata": {},
   "outputs": [
    {
     "data": {
      "text/plain": [
       "array([1., 0., 0., 0., 1., 1., 0., 1., 1., 0., 0., 0., 1., 1., 1., 1., 1., 0.,\n",
       "       0., 1., 0., 1., 0., 0., 1., 0., 0., 1., 0., 1., 0., 1., 1., 0., 1., 0.,\n",
       "       1., 1., 0., 1.])"
      ]
     },
     "execution_count": 18,
     "metadata": {},
     "output_type": "execute_result"
    }
   ],
   "source": [
    "gen_m = np.zeros(len(gender))\n",
    "gen_m[gender=='M'] = 1\n",
    "gen_m"
   ]
  },
  {
   "cell_type": "markdown",
   "metadata": {},
   "source": [
    "#### Let's now create a new 2d array with the old Gender attributes replaced with the new ones. In the example below, we have removed the two other categorical attributes (Incidentals and Genre) for now, just to illustrate what the data would look like in \"Standard Spreadsheet Fromat\":"
   ]
  },
  {
   "cell_type": "code",
   "execution_count": 19,
   "metadata": {},
   "outputs": [
    {
     "name": "stdout",
     "output_type": "stream",
     "text": [
      "[[    0.      1.  45000.     25.     27.      2.5]\n",
      " [    1.      0.  54000.     33.     12.      3.4]\n",
      " [    1.      0.  32000.     20.     42.      1.6]\n",
      " [    1.      0.  59000.     70.     16.      4.2]\n",
      " [    0.      1.  37000.     35.     25.      3.2]]\n"
     ]
    }
   ],
   "source": [
    "vs_new = np.array([gen_f,gen_m,sal,age,rentals,visit_avg])\n",
    "vs_new = vs_new.T\n",
    "\n",
    "np.set_printoptions(linewidth=80)\n",
    "\n",
    "#Here are the first 5 elements of the new array\n",
    "print (vs_new[0:5])"
   ]
  },
  {
   "cell_type": "markdown",
   "metadata": {},
   "source": [
    "#### Note that we can apply standard statistical or numeric functions to the whole array and not just to individual columns:"
   ]
  },
  {
   "cell_type": "code",
   "execution_count": 20,
   "metadata": {},
   "outputs": [
    {
     "name": "stdout",
     "output_type": "stream",
     "text": [
      "       Gen=F Gen=M Income  Age  Rntls  VisAvg\n",
      "Mean:  0.475 0.525 41500.0 31.5 26.175 2.7924999999999995\n"
     ]
    }
   ],
   "source": [
    "f_mean,m_mean,sal_mean,age_mean,rentals_mean,visavg_mean= vs_new.mean(axis=0)\n",
    "\n",
    "print (\"       Gen=F Gen=M Income  Age  Rntls  VisAvg\")\n",
    "print (\"Mean: \", f_mean,m_mean,sal_mean,age_mean,rentals_mean,visavg_mean)"
   ]
  },
  {
   "cell_type": "code",
   "execution_count": 21,
   "metadata": {},
   "outputs": [
    {
     "data": {
      "text/plain": [
       "array([[ 1.    , -1.    , -0.0365,  0.161 ,  0.1515,  0.2033],\n",
       "       [-1.    ,  1.    ,  0.0365, -0.161 , -0.1515, -0.2033],\n",
       "       [-0.0365,  0.0365,  1.    ,  0.6138, -0.2625,  0.4686],\n",
       "       [ 0.161 , -0.161 ,  0.6138,  1.    , -0.5471,  0.6291],\n",
       "       [ 0.1515, -0.1515, -0.2625, -0.5471,  1.    , -0.2064],\n",
       "       [ 0.2033, -0.2033,  0.4686,  0.6291, -0.2064,  1.    ]])"
      ]
     },
     "execution_count": 21,
     "metadata": {},
     "output_type": "execute_result"
    }
   ],
   "source": [
    "#Now that the data is in all numeric form, we can apply techiques such as correlation analysis on the variables\n",
    "np.corrcoef(vs_new.T)"
   ]
  },
  {
   "cell_type": "markdown",
   "metadata": {},
   "source": [
    "#### The new table can be written into a file using \"savetxt\" function:"
   ]
  },
  {
   "cell_type": "code",
   "execution_count": 22,
   "metadata": {},
   "outputs": [],
   "source": [
    "out_file = open(\"new_video_store.csv\", \"w\")\n",
    "np.savetxt(out_file, vs_new, fmt='%d,%d,%1.2f,%1.2f,%1.2f,%1.2f', delimiter=',')"
   ]
  },
  {
   "cell_type": "markdown",
   "metadata": {},
   "source": [
    "#### An alternative method for loading heterogenous (mixed type) data into an array is to specify the dtype and set \"Names\" to \"True\". This creates a structured array with each row representing a tuple. Each column can be accessed by the keys extracted from the first line of the data file."
   ]
  },
  {
   "cell_type": "code",
   "execution_count": 23,
   "metadata": {},
   "outputs": [
    {
     "name": "stdout",
     "output_type": "stream",
     "text": [
      "[( 1, 'M', 45000., 25, 27, 2.5, 'Action')\n",
      " ( 2, 'F', 54000., 33, 12, 3.4, 'Drama')\n",
      " ( 3, 'F', 32000., 20, 42, 1.6, 'Comedy')\n",
      " ( 4, 'F', 59000., 70, 16, 4.2, 'Drama')\n",
      " ( 5, 'M', 37000., 35, 25, 3.2, 'Action')\n",
      " ( 6, 'M', 18000., 20, 33, 1.7, 'Action')\n",
      " ( 7, 'F', 29000., 45, 19, 3.8, 'Drama')\n",
      " ( 8, 'M', 74000., 25, 31, 2.4, 'Action')\n",
      " ( 9, 'M', 38000., 21, 18, 2.1, 'Comedy')\n",
      " (10, 'F', 65000., 40, 21, 3.3, 'Drama')\n",
      " (11, 'F', 41000., 22, 48, 2.3, 'Drama')\n",
      " (12, 'F', 26000., 22, 29, 2.9, 'Action')\n",
      " (13, 'M', 83000., 46, 14, 3.6, 'Comedy')\n",
      " (14, 'M', 45000., 36, 24, 2.7, 'Drama')\n",
      " (15, 'M', 68000., 30, 36, 2.7, 'Comedy')\n",
      " (16, 'M', 17000., 19, 26, 2.2, 'Action')\n",
      " (17, 'M', 36000., 35, 28, 3.5, 'Drama')\n",
      " (18, 'F',  6000., 16, 39, 1.8, 'Action')\n",
      " (19, 'F', 24000., 25, 41, 3.1, 'Comedy')\n",
      " (20, 'M', 12000., 16, 23, 2.2, 'Action')\n",
      " (21, 'F', 47000., 52, 11, 3.1, 'Drama')\n",
      " (22, 'M', 25000., 33, 16, 2.9, 'Drama')\n",
      " (23, 'F',  2000., 15, 30, 2.5, 'Comedy')\n",
      " (24, 'F', 79000., 35, 22, 3.8, 'Drama')\n",
      " (25, 'M',  1000., 16, 25, 1.4, 'Comedy')\n",
      " (26, 'F', 56000., 35, 40, 2.6, 'Action')\n",
      " (27, 'F', 62000., 47, 32, 3.6, 'Drama')\n",
      " (28, 'M', 57000., 52, 22, 4.1, 'Comedy')\n",
      " (29, 'F', 15000., 18, 37, 2.1, 'Action')\n",
      " (30, 'M', 41000., 25, 17, 1.4, 'Action')\n",
      " (31, 'F', 49000., 56, 15, 3.2, 'Comedy')\n",
      " (32, 'M', 47000., 30, 21, 3.1, 'Drama')\n",
      " (33, 'M', 23000., 25, 28, 2.7, 'Action')\n",
      " (34, 'F', 29000., 32, 19, 2.9, 'Action')\n",
      " (35, 'M', 74000., 29, 43, 4.6, 'Action')\n",
      " (36, 'F', 29000., 21, 34, 2.3, 'Comedy')\n",
      " (37, 'M', 89000., 46, 12, 1.2, 'Comedy')\n",
      " (38, 'M', 41000., 38, 20, 3.3, 'Drama')\n",
      " (39, 'F', 68000., 35, 19, 3.9, 'Comedy')\n",
      " (40, 'M', 17000., 19, 32, 1.8, 'Action')]\n"
     ]
    }
   ],
   "source": [
    "vs = np.genfromtxt(\"video_store.csv\", delimiter=\",\", names=True, dtype=(int, \"|U1\", float, int, int, float, \"|U10\"))\n",
    "print (vs)"
   ]
  },
  {
   "cell_type": "code",
   "execution_count": 24,
   "metadata": {},
   "outputs": [
    {
     "data": {
      "text/plain": [
       "dtype([('ID', '<i4'), ('Gender', '<U1'), ('Income', '<f8'), ('Age', '<i4'), ('Rentals', '<i4'), ('AvgPerVisit', '<f8'), ('Genre', '<U10')])"
      ]
     },
     "execution_count": 24,
     "metadata": {},
     "output_type": "execute_result"
    }
   ],
   "source": [
    "np.dtype(vs[0])"
   ]
  },
  {
   "cell_type": "code",
   "execution_count": 25,
   "metadata": {},
   "outputs": [
    {
     "name": "stdout",
     "output_type": "stream",
     "text": [
      "['M' 'F' 'F' 'F' 'M' 'M' 'F' 'M' 'M' 'F' 'F' 'F' 'M' 'M' 'M' 'M' 'M' 'F' 'F'\n",
      " 'M' 'F' 'M' 'F' 'F' 'M' 'F' 'F' 'M' 'F' 'M' 'F' 'M' 'M' 'F' 'M' 'F' 'M' 'M'\n",
      " 'F' 'M']\n"
     ]
    }
   ],
   "source": [
    "print (vs['Gender'])"
   ]
  },
  {
   "cell_type": "code",
   "execution_count": 26,
   "metadata": {},
   "outputs": [
    {
     "name": "stdout",
     "output_type": "stream",
     "text": [
      "[45000. 54000. 32000. 59000. 37000. 18000. 29000. 74000. 38000. 65000. 41000.\n",
      " 26000. 83000. 45000. 68000. 17000. 36000.  6000. 24000. 12000. 47000. 25000.\n",
      "  2000. 79000.  1000. 56000. 62000. 57000. 15000. 41000. 49000. 47000. 23000.\n",
      " 29000. 74000. 29000. 89000. 41000. 68000. 17000.]\n"
     ]
    }
   ],
   "source": [
    "print (vs['Income'])"
   ]
  },
  {
   "cell_type": "code",
   "execution_count": 27,
   "metadata": {},
   "outputs": [
    {
     "name": "stdout",
     "output_type": "stream",
     "text": [
      "15\n"
     ]
    }
   ],
   "source": [
    "print (sum(vs['Genre']=='Action'))"
   ]
  },
  {
   "cell_type": "code",
   "execution_count": 28,
   "metadata": {},
   "outputs": [
    {
     "data": {
      "text/plain": [
       "array([( 3, 'F', 32000., 20, 42, 1.6, 'Comedy'),\n",
       "       ( 6, 'M', 18000., 20, 33, 1.7, 'Action'),\n",
       "       ( 8, 'M', 74000., 25, 31, 2.4, 'Action'),\n",
       "       (11, 'F', 41000., 22, 48, 2.3, 'Drama'),\n",
       "       (15, 'M', 68000., 30, 36, 2.7, 'Comedy'),\n",
       "       (18, 'F',  6000., 16, 39, 1.8, 'Action'),\n",
       "       (19, 'F', 24000., 25, 41, 3.1, 'Comedy'),\n",
       "       (23, 'F',  2000., 15, 30, 2.5, 'Comedy'),\n",
       "       (26, 'F', 56000., 35, 40, 2.6, 'Action'),\n",
       "       (27, 'F', 62000., 47, 32, 3.6, 'Drama'),\n",
       "       (29, 'F', 15000., 18, 37, 2.1, 'Action'),\n",
       "       (35, 'M', 74000., 29, 43, 4.6, 'Action'),\n",
       "       (36, 'F', 29000., 21, 34, 2.3, 'Comedy'),\n",
       "       (40, 'M', 17000., 19, 32, 1.8, 'Action')],\n",
       "      dtype=[('ID', '<i4'), ('Gender', '<U1'), ('Income', '<f8'), ('Age', '<i4'), ('Rentals', '<i4'), ('AvgPerVisit', '<f8'), ('Genre', '<U10')])"
      ]
     },
     "execution_count": 28,
     "metadata": {},
     "output_type": "execute_result"
    }
   ],
   "source": [
    "is_good = np.array(vs['Rentals'] >= 30)\n",
    "good_cust = np.array(vs[is_good])\n",
    "good_cust"
   ]
  },
  {
   "cell_type": "code",
   "execution_count": 29,
   "metadata": {},
   "outputs": [
    {
     "name": "stdout",
     "output_type": "stream",
     "text": [
      "Min Rentals:  30\n",
      "Max Rentals:  48\n",
      "Rentals Mean:  37.0\n",
      "Rentals Median:  36.5\n",
      "Rentals Std. Dev.:  5.154748157905347\n"
     ]
    }
   ],
   "source": [
    "print (\"Min Rentals: \", good_cust['Rentals'].min())\n",
    "print (\"Max Rentals: \", good_cust['Rentals'].max())\n",
    "print (\"Rentals Mean: \", good_cust['Rentals'].mean())\n",
    "print (\"Rentals Median: \", np.median(good_cust['Rentals']))\n",
    "print (\"Rentals Std. Dev.: \", good_cust['Rentals'].std())"
   ]
  },
  {
   "cell_type": "markdown",
   "metadata": {},
   "source": [
    "#### For most types of analysis, we would want to exclude the index column from the data (in this case the ID attribute). This could be done by removing the first column of the matrix. However, it could have been done when reading the data in using the \"usecols\" parameter in \"genfromtxt\"."
   ]
  },
  {
   "cell_type": "code",
   "execution_count": 30,
   "metadata": {},
   "outputs": [
    {
     "data": {
      "text/plain": [
       "array([('M', 45000., 25, 27, 2.5, b'Action'),\n",
       "       ('F', 54000., 33, 12, 3.4, b'Drama'),\n",
       "       ('F', 32000., 20, 42, 1.6, b'Comedy'),\n",
       "       ('F', 59000., 70, 16, 4.2, b'Drama'),\n",
       "       ('M', 37000., 35, 25, 3.2, b'Action')],\n",
       "      dtype=[('Gender', '<U1'), ('Income', '<f8'), ('Age', '<i4'), ('Rentals', '<i4'), ('AvgPerVisit', '<f8'), ('Genre', 'S10')])"
      ]
     },
     "execution_count": 30,
     "metadata": {},
     "output_type": "execute_result"
    }
   ],
   "source": [
    "vs_nid = np.genfromtxt(\"video_store.csv\", delimiter=\",\", usecols=(1,2,3,4,5,6), names=True, dtype=(\"|U1\", float, int, int, float, \"|S10\"))\n",
    "vs_nid[0:5]"
   ]
  },
  {
   "cell_type": "markdown",
   "metadata": {},
   "source": [
    "#### Once the data is in structured array format as above, we can combine the tuples with feature names to create an array of dicts. The DictVectorizer package from the Scikit-learn library can then be used to create dummy variables for each of the categorical attriibutes and convert the data into the standard spreadsheet format. This is the preferred approach for creating dummy variables than the manual approach discussed earlier in cells 25-30."
   ]
  },
  {
   "cell_type": "code",
   "execution_count": 31,
   "metadata": {},
   "outputs": [],
   "source": [
    "names = vs_nid.dtype.names\n",
    "\n",
    "vs_dict = [dict(zip(names, record)) for record in vs_nid] "
   ]
  },
  {
   "cell_type": "code",
   "execution_count": 32,
   "metadata": {},
   "outputs": [
    {
     "name": "stdout",
     "output_type": "stream",
     "text": [
      "{'Gender': 'M', 'Income': 45000.0, 'Age': 25, 'Rentals': 27, 'AvgPerVisit': 2.5, 'Genre': b'Action'}\n"
     ]
    }
   ],
   "source": [
    "print (vs_dict[0])"
   ]
  },
  {
   "cell_type": "code",
   "execution_count": 33,
   "metadata": {},
   "outputs": [],
   "source": [
    "from sklearn.feature_extraction import DictVectorizer"
   ]
  },
  {
   "cell_type": "code",
   "execution_count": null,
   "metadata": {},
   "outputs": [],
   "source": [
    "# works in python 2 - deprecated in python 3\n",
    "#vs_vec = DictVectorizer()"
   ]
  },
  {
   "cell_type": "code",
   "execution_count": 34,
   "metadata": {},
   "outputs": [],
   "source": [
    "np.set_printoptions(linewidth=100)\n",
    "\n",
    "vs_dict\n",
    "vs_vect = []\n",
    "for item in vs_dict:\n",
    "    new_dict = {}\n",
    "    for k,v in item.items():\n",
    "        #print (\"key\",k,v)\n",
    "        if k == \"Gender\":\n",
    "            if v == 'M':\n",
    "                new_dict[\"Gender=M\"] = 1\n",
    "                new_dict[\"Gender=F\"] = 0\n",
    "            elif v == 'F':\n",
    "                new_dict[\"Gender=F\"] = 1\n",
    "                new_dict[\"Gender=M\"] = 0\n",
    "        if k == \"Genre\":\n",
    "            if v == 'Action':\n",
    "                new_dict[\"Genre=Action\"] = 1\n",
    "                new_dict[\"Gender=Comedy\"] = 0\n",
    "                new_dict[\"Gender=Drama\"] = 0\n",
    "            elif v == 'Comedy':\n",
    "                new_dict[\"Genre=Action\"] = 0\n",
    "                new_dict[\"Gender=Comedy\"] = 1\n",
    "                new_dict[\"Gender=Drama\"] = 0\n",
    "            elif v == 'Drama':\n",
    "                new_dict[\"Genre=Action\"] = 0\n",
    "                new_dict[\"Gender=Comedy\"] = 0\n",
    "                new_dict[\"Gender=Drama\"] = 1\n",
    "        else:\n",
    "            new_dict[k] = v\n",
    "        \n",
    "    vs_vect.append(new_dict)\n",
    "\n",
    "#print(len(vs_dict))\n",
    "#print(len(vs_vect))\n"
   ]
  },
  {
   "cell_type": "code",
   "execution_count": 35,
   "metadata": {},
   "outputs": [],
   "source": [
    "#vs_vec.get_feature_names()\n",
    "vs_vect[0].keys()\n",
    "\n",
    "income = np.array([d.get('Income') for d in vs_vect])\n",
    "age = np.array([d.get('Age') for d in vs_vect])\n",
    "\n"
   ]
  },
  {
   "cell_type": "markdown",
   "metadata": {},
   "source": [
    "#### Now let's do some visualization using the Mathplotlib library to get some more insight into the characteristics of the variables and their relationships."
   ]
  },
  {
   "cell_type": "code",
   "execution_count": 36,
   "metadata": {},
   "outputs": [],
   "source": [
    "import matplotlib.pyplot as plt\n",
    "%matplotlib inline"
   ]
  },
  {
   "cell_type": "code",
   "execution_count": 37,
   "metadata": {},
   "outputs": [
    {
     "data": {
      "image/png": "[encoded data removed]",
      "text/plain": [
       "<Figure size 432x288 with 1 Axes>"
      ]
     },
     "metadata": {
      "needs_background": "light"
     },
     "output_type": "display_data"
    }
   ],
   "source": [
    "plt.hist(income, bins=9, alpha=0.5)\n",
    "plt.xlabel('Income')\n",
    "plt.ylabel('Count')\n",
    "plt.title('Histogram of Income')\n",
    "plt.axis([0, 100000, 0, 10])\n",
    "plt.grid(True)\n",
    "plt.show()"
   ]
  },
  {
   "cell_type": "markdown",
   "metadata": {},
   "source": [
    "#### Let's cross-tabulate the Genre and the Gender attributes to find out if men and women have different movie preferences. [Note: correlation analysis perfromed earlier could also shed some light on this question.]"
   ]
  },
  {
   "cell_type": "code",
   "execution_count": 38,
   "metadata": {},
   "outputs": [],
   "source": [
    "# First we need the counts for males and females across different genres\n",
    "m_counts = [14, 6, 8]  # counts of Action, Comedy, Drama for male custs.\n",
    "f_counts = [8, 6, 12]  # counts of Action, Comedy, Drama for female custs.\n",
    "N = len(f_counts)"
   ]
  },
  {
   "cell_type": "code",
   "execution_count": 41,
   "metadata": {},
   "outputs": [
    {
     "data": {
      "image/png": "[encoded data removed]",
      "text/plain": [
       "<Figure size 432x288 with 1 Axes>"
      ]
     },
     "metadata": {
      "needs_background": "light"
     },
     "output_type": "display_data"
    }
   ],
   "source": [
    "ind = np.arange(N)  # the x locations for the groups\n",
    "ind = ind + 0.15\n",
    "width = 0.35       # the width of the bars\n",
    "\n",
    "fig, ax = plt.subplots()\n",
    "rects1 = ax.bar(ind, f_counts, width, color='b')\n",
    "rects2 = ax.bar(ind+width, m_counts, width, color='r')\n",
    "\n",
    "rects1 = plt.bar(ind, f_counts, width, color='b')\n",
    "rects2 = plt.bar(ind+width, m_counts, width, color='r')\n",
    "\n",
    "\n",
    "ax.set_ylabel('Counts')\n",
    "ax.set_ybound(upper=16)\n",
    "ax.set_title('Counts by Genre and Gender')\n",
    "ax.set_xticks(ind+width)\n",
    "ax.set_xticklabels( ('Action', 'Comedy', 'Drama') )\n",
    "\n",
    "ax.legend( (rects1[0], rects2[0]), ('Female', 'Male') )\n",
    "\n",
    "plt.show()\n",
    "\n",
    "#plt.savefig(\"figure.pdf\")"
   ]
  },
  {
   "cell_type": "markdown",
   "metadata": {},
   "source": [
    "#### This figure shows that male customers tend to prefer action movies, while female customers tend to like dramas. "
   ]
  },
  {
   "cell_type": "markdown",
   "metadata": {},
   "source": [
    "#### Now, let's use a scatter plot discover possible correlations between Age and Income."
   ]
  },
  {
   "cell_type": "code",
   "execution_count": 42,
   "metadata": {},
   "outputs": [
    {
     "data": {
      "image/png": "[encoded data removed]",
      "text/plain": [
       "<Figure size 360x288 with 1 Axes>"
      ]
     },
     "metadata": {
      "needs_background": "light"
     },
     "output_type": "display_data"
    }
   ],
   "source": [
    "fig = plt.figure(figsize=(5, 4))\n",
    "# Create an Axes object.\n",
    "ax = fig.add_subplot(1,1,1) # one row, one column, first plot\n",
    "# Plot the data.\n",
    "ax.scatter(age, income, color=\"blue\", marker=\"*\")\n",
    "# Add a title.\n",
    "ax.set_title(\"Age VS. Income\")\n",
    "# Add some axis labels.\n",
    "ax.set_xlabel(\"Age\")\n",
    "ax.set_ylabel(\"Income\")\n",
    "# Produce an image.\n",
    "# fig.savefig(\"scatterplot.png\")\n",
    "plt.show()"
   ]
  },
  {
   "cell_type": "markdown",
   "metadata": {},
   "source": [
    "#### Indeed, there does appear to be a positive correlation between Age and Income. This can also be observed by viewing the Pearson r correlation coefficient in our correlation matrix shown earlier."
   ]
  },
  {
   "cell_type": "code",
   "execution_count": null,
   "metadata": {},
   "outputs": [],
   "source": []
  }
 ],
 "metadata": {
  "kernelspec": {
   "display_name": "Python 3",
   "language": "python",
   "name": "python3"
  },
  "language_info": {
   "codemirror_mode": {
    "name": "ipython",
    "version": 3
   },
   "file_extension": ".py",
   "mimetype": "text/x-python",
   "name": "python",
   "nbconvert_exporter": "python",
   "pygments_lexer": "ipython3",
   "version": "3.8.2"
  }
 },
 "nbformat": 4,
 "nbformat_minor": 4
}
